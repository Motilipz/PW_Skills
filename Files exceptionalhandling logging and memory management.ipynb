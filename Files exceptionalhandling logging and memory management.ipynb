{
  "nbformat": 4,
  "nbformat_minor": 0,
  "metadata": {
    "colab": {
      "provenance": []
    },
    "kernelspec": {
      "name": "python3",
      "display_name": "Python 3"
    },
    "language_info": {
      "name": "python"
    }
  },
  "cells": [
    {
      "cell_type": "markdown",
      "source": [
        " Q1. How can you open a file for writing in Python and write a string to it?"
      ],
      "metadata": {
        "id": "EIAolygaXgsK"
      }
    },
    {
      "cell_type": "code",
      "execution_count": 2,
      "metadata": {
        "id": "mHK6xbh6pXCx"
      },
      "outputs": [],
      "source": [
        "with open(\"/content/file.txt\",\"w\") as f:\n",
        "  f.write(\"This statement will be written in the file.txt\")"
      ]
    },
    {
      "cell_type": "markdown",
      "source": [
        "Q2. Write a Python program to read the contents of a file and print each line."
      ],
      "metadata": {
        "id": "U5T64oqgXvm-"
      }
    },
    {
      "cell_type": "code",
      "source": [
        "with open(\"/content/new_file.txt\",\"r\") as f:\n",
        "  print(f.read())"
      ],
      "metadata": {
        "colab": {
          "base_uri": "https://localhost:8080/"
        },
        "id": "TjDefnZ0xhNW",
        "outputId": "3cfeb025-c76b-415b-d7d4-615f56da700e"
      },
      "execution_count": 3,
      "outputs": [
        {
          "output_type": "stream",
          "name": "stdout",
          "text": [
            "this the file created just for reading lines\n",
            "this is the secondline of the file\n",
            "this the thirddline of the file\n",
            "file ends here thanks! for reading\n"
          ]
        }
      ]
    },
    {
      "cell_type": "markdown",
      "source": [
        "Q3. How would you handle a case where the file doesn't exist while trying to open it for reading?"
      ],
      "metadata": {
        "id": "s2wbOgGHXzhu"
      }
    },
    {
      "cell_type": "code",
      "source": [
        "try:\n",
        "  with open(\"/content/nonexisting_file.txt\",\"r\") as f:\n",
        "    print(f.read())\n",
        "except FileNotFoundError:\n",
        "  print(\"File not found\")"
      ],
      "metadata": {
        "colab": {
          "base_uri": "https://localhost:8080/"
        },
        "id": "stExrTCE151X",
        "outputId": "968496de-976f-455e-e58e-ab15cab56eb4"
      },
      "execution_count": 4,
      "outputs": [
        {
          "output_type": "stream",
          "name": "stdout",
          "text": [
            "File not found\n"
          ]
        }
      ]
    },
    {
      "cell_type": "markdown",
      "source": [
        "Q4. Write a Python script that reads from one file and writes its content to another file."
      ],
      "metadata": {
        "id": "WfEfDx8QX8ye"
      }
    },
    {
      "cell_type": "code",
      "source": [
        "content = None\n",
        "with open(\"/content/new_file.txt\",\"r\") as f:\n",
        "  content = f.read()\n",
        "with open(\"/content/file.txt\",\"w\") as f:\n",
        "  f.write(content)"
      ],
      "metadata": {
        "id": "uSF_HVw525KZ"
      },
      "execution_count": 10,
      "outputs": []
    },
    {
      "cell_type": "markdown",
      "source": [
        "Q5.  How would you catch and handle division by zero error in Python?"
      ],
      "metadata": {
        "id": "qmo-6HwVYGtW"
      }
    },
    {
      "cell_type": "code",
      "source": [
        "try:\n",
        "  print(4/0)\n",
        "except ZeroDivisionError:\n",
        "  print(\"Division by zero error\")"
      ],
      "metadata": {
        "colab": {
          "base_uri": "https://localhost:8080/"
        },
        "id": "fwYCl0pD9FQ3",
        "outputId": "d6707689-3313-4c7b-d191-c6271ffca7b8"
      },
      "execution_count": 11,
      "outputs": [
        {
          "output_type": "stream",
          "name": "stdout",
          "text": [
            "Division by zero error\n"
          ]
        }
      ]
    },
    {
      "cell_type": "markdown",
      "source": [
        "Q6. Write a Python program that logs an error message to a log file when a division by zero exception occurs."
      ],
      "metadata": {
        "id": "ukhRwZ9DYd42"
      }
    },
    {
      "cell_type": "code",
      "metadata": {
        "colab": {
          "base_uri": "https://localhost:8080/"
        },
        "id": "6fd4e9de",
        "outputId": "9ec2b49d-73b6-4787-9917-5c6e4d7304d3"
      },
      "source": [
        "import logging\n",
        "# Configure logging to write to a file\n",
        "logging.basicConfig(filename='error_log.txt', level=logging.ERROR,\n",
        "                    format='%(asctime)s:%(levelname)s:%(message)s')\n",
        "try:\n",
        "    result = 10 / 0\n",
        "except ZeroDivisionError:\n",
        "    logging.error(\"Error: Division by zero occurred.\")\n",
        "# You can check the content of the log file using\n",
        "# !cat error_log.txt"
      ],
      "execution_count": 12,
      "outputs": [
        {
          "output_type": "stream",
          "name": "stderr",
          "text": [
            "ERROR:root:Error: Division by zero occurred.\n"
          ]
        }
      ]
    },
    {
      "cell_type": "markdown",
      "source": [
        " Q7. How do you log information at different levels (INFO, ERROR, WARNING) in Python using the logging module?"
      ],
      "metadata": {
        "id": "b3-V42KlalIE"
      }
    },
    {
      "cell_type": "code",
      "source": [
        "import logging\n",
        "logging.basicConfig(level=logging.INFO)\n",
        "logging.info(\"This is an informational message.\")\n",
        "logging.warning(\"This is a warning message.\")\n",
        "logging.error(\"This is an error message.\")"
      ],
      "metadata": {
        "colab": {
          "base_uri": "https://localhost:8080/"
        },
        "id": "tUkbo7Wnb13b",
        "outputId": "4a2d8a2e-e73c-4adc-e41e-245effc303e6"
      },
      "execution_count": 26,
      "outputs": [
        {
          "output_type": "stream",
          "name": "stderr",
          "text": [
            "INFO:root:This is an informational message.\n",
            "WARNING:root:This is a warning message.\n",
            "ERROR:root:This is an error message.\n"
          ]
        }
      ]
    },
    {
      "cell_type": "markdown",
      "source": [
        "Q8. Write a program to handle a file opening error using exception handling."
      ],
      "metadata": {
        "id": "Bn8o9Jz6bijT"
      }
    },
    {
      "cell_type": "code",
      "source": [
        "try:\n",
        "  with open(\"/content/another_nonexisting_file.txt\",\"r\") as f:\n",
        "    print(f.read())\n",
        "except FileNotFoundError:\n",
        "  print(\"Error: The file was not found.\")"
      ],
      "metadata": {
        "colab": {
          "base_uri": "https://localhost:8080/"
        },
        "id": "LN9b5ovqccT6",
        "outputId": "5e84e1bc-abb2-4c84-d6c7-180ce0508075"
      },
      "execution_count": 27,
      "outputs": [
        {
          "output_type": "stream",
          "name": "stdout",
          "text": [
            "Error: The file was not found.\n"
          ]
        }
      ]
    },
    {
      "cell_type": "markdown",
      "source": [
        "Q9. How can you read a file line by line and store its content in a list in Python?"
      ],
      "metadata": {
        "id": "XztnGV4dfeex"
      }
    },
    {
      "cell_type": "code",
      "source": [
        "# Create a dummy file for demonstration (if it doesn't exist)\n",
        "try:\n",
        "    with open(\"my_lines_file.txt\", \"x\") as f:\n",
        "        f.write(\"This is the first line.\\n\")\n",
        "        f.write(\"This is the second line.\\n\")\n",
        "        f.write(\"This is the third line.\")\n",
        "except FileExistsError:\n",
        "    pass # File already exists, no need to create it again\n",
        "\n",
        "\n",
        "# Read the file line by line and store in a list\n",
        "lines = []\n",
        "try:\n",
        "    with open(\"my_lines_file.txt\", \"r\") as f:\n",
        "        for line in f:\n",
        "            lines.append(line.strip()) # .strip() removes leading/trailing whitespace, including newline characters\n",
        "    print(lines)\n",
        "except FileNotFoundError:\n",
        "    print(\"Error: The file was not found.\")"
      ],
      "metadata": {
        "colab": {
          "base_uri": "https://localhost:8080/"
        },
        "id": "-mjiyxZ1dQq6",
        "outputId": "7d660637-e4d6-481e-9869-be795c987caf"
      },
      "execution_count": 29,
      "outputs": [
        {
          "output_type": "stream",
          "name": "stdout",
          "text": [
            "['This is the first line.', 'This is the second line.', 'This is the third line.']\n"
          ]
        }
      ]
    },
    {
      "cell_type": "markdown",
      "source": [
        "Q10. How can you append data to an existing file in Python?"
      ],
      "metadata": {
        "id": "gr9cj1GVfjkG"
      }
    },
    {
      "cell_type": "code",
      "metadata": {
        "colab": {
          "base_uri": "https://localhost:8080/"
        },
        "id": "b110d7be",
        "outputId": "5ed8e99b-6586-4378-efc6-38f4a0a5dc67"
      },
      "source": [
        "# Create or open a file in append mode ('a') and add new content\n",
        "try:\n",
        "    with open(\"my_lines_file.txt\", \"a\") as f:\n",
        "        f.write(\"\\nThis line was appended.\")\n",
        "    print(\"Content appended successfully.\")\n",
        "\n",
        "    # Verify the content by reading the file again\n",
        "    with open(\"my_lines_file.txt\", \"r\") as f:\n",
        "        print(\"\\nFile content after appending:\")\n",
        "        print(f.read())\n",
        "\n",
        "except IOError:\n",
        "    print(\"Error: Could not append to the file.\")"
      ],
      "execution_count": 30,
      "outputs": [
        {
          "output_type": "stream",
          "name": "stdout",
          "text": [
            "Content appended successfully.\n",
            "\n",
            "File content after appending:\n",
            "This is the first line.\n",
            "This is the second line.\n",
            "This is the third line.\n",
            "This line was appended.\n"
          ]
        }
      ]
    },
    {
      "cell_type": "markdown",
      "source": [
        "Q11. Write a Python program that uses a try-except block to handle an error when attempting to access a\n",
        "dictionary key that doesn't exist."
      ],
      "metadata": {
        "id": "bd_NX1QdfpRX"
      }
    },
    {
      "cell_type": "code",
      "metadata": {
        "colab": {
          "base_uri": "https://localhost:8080/"
        },
        "id": "56aad9f0",
        "outputId": "8061fda5-e68f-4d8a-d20b-8aaac076018d"
      },
      "source": [
        "my_dict = {\"a\": 1, \"b\": 2}\n",
        "\n",
        "try:\n",
        "  value = my_dict[\"c\"]\n",
        "  print(value)\n",
        "except KeyError:\n",
        "  print(\"Error: The requested dictionary key does not exist.\")"
      ],
      "execution_count": 31,
      "outputs": [
        {
          "output_type": "stream",
          "name": "stdout",
          "text": [
            "Error: The requested dictionary key does not exist.\n"
          ]
        }
      ]
    },
    {
      "cell_type": "markdown",
      "source": [
        "Q12. Write a program that demonstrates using multiple except blocks to handle different types of exceptions"
      ],
      "metadata": {
        "id": "85FlCwvYfvyY"
      }
    },
    {
      "cell_type": "code",
      "metadata": {
        "colab": {
          "base_uri": "https://localhost:8080/"
        },
        "id": "63649687",
        "outputId": "ccb15b62-0eab-4cca-eb98-693798cee5b3"
      },
      "source": [
        "def divide_numbers(a, b):\n",
        "  try:\n",
        "    result = a / b\n",
        "    print(f\"The result of division is: {result}\")\n",
        "  except ZeroDivisionError:\n",
        "    print(\"Error: Cannot divide by zero.\")\n",
        "  except TypeError:\n",
        "    print(\"Error: Invalid type for division. Please provide numbers.\")\n",
        "  except Exception as e:\n",
        "    print(f\"An unexpected error occurred: {e}\")\n",
        "\n",
        "# Demonstrate with different scenarios\n",
        "divide_numbers(10, 2)\n",
        "divide_numbers(10, 0)\n",
        "divide_numbers(10, \"2\")"
      ],
      "execution_count": 32,
      "outputs": [
        {
          "output_type": "stream",
          "name": "stdout",
          "text": [
            "The result of division is: 5.0\n",
            "Error: Cannot divide by zero.\n",
            "Error: Invalid type for division. Please provide numbers.\n"
          ]
        }
      ]
    },
    {
      "cell_type": "markdown",
      "source": [
        "Q13. How would you check if a file exists before attempting to read it in Python?"
      ],
      "metadata": {
        "id": "lhfcg5sUf3o2"
      }
    },
    {
      "cell_type": "code",
      "metadata": {
        "colab": {
          "base_uri": "https://localhost:8080/"
        },
        "id": "d83ffabe",
        "outputId": "3c5c46d7-0a9d-4181-dacd-89a404a91022"
      },
      "source": [
        "import os\n",
        "\n",
        "file_path = \"my_lines_file.txt\" # Replace with the actual file path\n",
        "\n",
        "if os.path.exists(file_path):\n",
        "  print(f\"The file '{file_path}' exists.\")\n",
        "  # Now you can proceed to open and read the file\n",
        "  try:\n",
        "    with open(file_path, \"r\") as f:\n",
        "      content = f.read()\n",
        "      print(\"\\nFile content:\")\n",
        "      print(content)\n",
        "  except IOError:\n",
        "    print(f\"Error: Could not read the file '{file_path}'.\")\n",
        "else:\n",
        "  print(f\"Error: The file '{file_path}' does not exist.\")"
      ],
      "execution_count": 33,
      "outputs": [
        {
          "output_type": "stream",
          "name": "stdout",
          "text": [
            "The file 'my_lines_file.txt' exists.\n",
            "\n",
            "File content:\n",
            "This is the first line.\n",
            "This is the second line.\n",
            "This is the third line.\n",
            "This line was appended.\n"
          ]
        }
      ]
    },
    {
      "cell_type": "markdown",
      "source": [
        "Q14. Write a program that uses the logging module to log both informational and error messages."
      ],
      "metadata": {
        "id": "xXYtye-pf8LX"
      }
    },
    {
      "cell_type": "code",
      "metadata": {
        "colab": {
          "base_uri": "https://localhost:8080/"
        },
        "id": "d5f6fe3c",
        "outputId": "9d4fb911-dcd0-4b20-84b9-70a6e1cdec7b"
      },
      "source": [
        "import logging\n",
        "import sys\n",
        "\n",
        "# Configure logging to output both INFO and ERROR messages to the console\n",
        "logging.basicConfig(level=logging.INFO,\n",
        "                    format='%(asctime)s:%(levelname)s:%(message)s',\n",
        "                    handlers=[logging.StreamHandler(sys.stdout)])\n",
        "\n",
        "logging.info(\"This is an informational message.\")\n",
        "logging.error(\"This is an error message.\")\n",
        "logging.warning(\"This is a warning message.\") # Also include a warning for completeness"
      ],
      "execution_count": 34,
      "outputs": [
        {
          "output_type": "stream",
          "name": "stderr",
          "text": [
            "INFO:root:This is an informational message.\n",
            "ERROR:root:This is an error message.\n",
            "WARNING:root:This is a warning message.\n"
          ]
        }
      ]
    },
    {
      "cell_type": "markdown",
      "source": [
        "Q15. Write a Python program that prints the content of a file and handles the case when the file is empty"
      ],
      "metadata": {
        "id": "zOrVby4cgB9_"
      }
    },
    {
      "cell_type": "code",
      "metadata": {
        "colab": {
          "base_uri": "https://localhost:8080/"
        },
        "id": "e94dc3c1",
        "outputId": "b4ae2279-1933-480b-e923-19a21c664844"
      },
      "source": [
        "import os\n",
        "file_path_empty = \"empty_file.txt\"\n",
        "file_path_with_content = \"file_with_content.txt\"\n",
        "# Create an empty file for demonstration\n",
        "try:\n",
        "    with open(file_path_empty, \"x\") as f:\n",
        "        pass  # Create the file but write nothing\n",
        "except FileExistsError:\n",
        "    pass # File already exists\n",
        "# Create a file with content for demonstration\n",
        "try:\n",
        "    with open(file_path_with_content, \"w\") as f:\n",
        "        f.write(\"This file has content.\")\n",
        "except FileExistsError:\n",
        "    pass # File already exists\n",
        "def print_file_content(file_path):\n",
        "  try:\n",
        "    with open(file_path, \"r\") as f:\n",
        "      content = f.read()\n",
        "      if not content:\n",
        "        print(f\"The file '{file_path}' is empty.\")\n",
        "      else:\n",
        "        print(f\"Content of '{file_path}':\\n{content}\")\n",
        "  except FileNotFoundError:\n",
        "    print(f\"Error: The file '{file_path}' was not found.\")\n",
        "  except IOError:\n",
        "    print(f\"Error: Could not read the file '{file_path}'.\")\n",
        "# Demonstrate with both an empty file and a file with content\n",
        "print_file_content(file_path_empty)\n",
        "print_file_content(file_path_with_content)"
      ],
      "execution_count": 45,
      "outputs": [
        {
          "output_type": "stream",
          "name": "stdout",
          "text": [
            "The file 'empty_file.txt' is empty.\n",
            "Content of 'file_with_content.txt':\n",
            "This file has content.\n"
          ]
        }
      ]
    },
    {
      "cell_type": "markdown",
      "source": [
        "Q16. Demonstrate how to use memory profiling to check the memory usage of a small program."
      ],
      "metadata": {
        "id": "8XZFzs5KgZS3"
      }
    },
    {
      "cell_type": "code",
      "metadata": {
        "colab": {
          "base_uri": "https://localhost:8080/"
        },
        "id": "6eeb5fed",
        "outputId": "945f6975-f5cc-44dd-a2a1-4749f64419ad"
      },
      "source": [
        "!pip install memory_profiler"
      ],
      "execution_count": 59,
      "outputs": [
        {
          "output_type": "stream",
          "name": "stdout",
          "text": [
            "Requirement already satisfied: memory_profiler in /usr/local/lib/python3.12/dist-packages (0.61.0)\n",
            "Requirement already satisfied: psutil in /usr/local/lib/python3.12/dist-packages (from memory_profiler) (5.9.5)\n"
          ]
        }
      ]
    },
    {
      "cell_type": "code",
      "metadata": {
        "colab": {
          "base_uri": "https://localhost:8080/"
        },
        "id": "62c5a8a4",
        "outputId": "fa68a205-5baa-45dc-e7e3-fe2c49c13099"
      },
      "source": [
        "# Write a small program (a function) to be profiled\n",
        "def my_function():\n",
        "    a = [i for i in range(1000000)]\n",
        "    b = [i for i in range(2000000)]\n",
        "    del b\n",
        "    return a\n",
        "%load_ext memory_profiler\n",
        "%memit my_function()"
      ],
      "execution_count": 62,
      "outputs": [
        {
          "output_type": "stream",
          "name": "stdout",
          "text": [
            "The memory_profiler extension is already loaded. To reload it, use:\n",
            "  %reload_ext memory_profiler\n",
            "peak memory: 594.55 MiB, increment: 66.45 MiB\n"
          ]
        }
      ]
    },
    {
      "cell_type": "markdown",
      "source": [
        "Q17. Write a Python program to create and write a list of numbers to a file, one number per line."
      ],
      "metadata": {
        "id": "S_sJG0eRp2Fl"
      }
    },
    {
      "cell_type": "code",
      "source": [
        "numbers = [10, 25, 5, 42, 17]\n",
        "file_path = \"numbers_list.txt\"\n",
        "\n",
        "try:\n",
        "  with open(file_path, \"w\") as f:\n",
        "    for number in numbers:\n",
        "      f.write(str(number) + \"\\n\")\n",
        "  print(f\"Successfully wrote the list of numbers to '{file_path}'.\")\n",
        "\n",
        "except IOError:\n",
        "  print(f\"Error: Could not write to the file '{file_path}'.\")\n",
        "\n",
        "# Optional: Verify the content by reading the file\n",
        "try:\n",
        "    with open(file_path, \"r\") as f:\n",
        "        print(\"\\nFile content:\")\n",
        "        print(f.read())\n",
        "except FileNotFoundError:\n",
        "    print(f\"Error: The file '{file_path}' was not found after writing.\")\n",
        "except IOError:\n",
        "    print(f\"Error: Could not read the file '{file_path}' for verification.\")"
      ],
      "metadata": {
        "colab": {
          "base_uri": "https://localhost:8080/"
        },
        "id": "ZrbPmj6rp1uO",
        "outputId": "a92a6711-341b-4303-b8e6-54dee9f06e4e"
      },
      "execution_count": 63,
      "outputs": [
        {
          "output_type": "stream",
          "name": "stdout",
          "text": [
            "Successfully wrote the list of numbers to 'numbers_list.txt'.\n",
            "\n",
            "File content:\n",
            "10\n",
            "25\n",
            "5\n",
            "42\n",
            "17\n",
            "\n"
          ]
        }
      ]
    },
    {
      "cell_type": "markdown",
      "source": [
        "Q18. How would you implement a basic logging setup that logs to a file with rotation after 1MB?"
      ],
      "metadata": {
        "id": "rUq4lpdAqB-u"
      }
    },
    {
      "cell_type": "code",
      "source": [
        "import logging\n",
        "from logging.handlers import RotatingFileHandler\n",
        "import os\n",
        "\n",
        "# Define the log file path\n",
        "log_file = \"rotating_log.txt\"\n",
        "\n",
        "# Configure the logger\n",
        "logger = logging.getLogger(\"RotatingLogger\")\n",
        "logger.setLevel(logging.INFO) # Set the minimum logging level\n",
        "\n",
        "# Create a rotating file handler\n",
        "# maxBytes is the maximum size of the log file in bytes (1MB = 1024 * 1024 bytes)\n",
        "# backupCount is the number of backup files to keep\n",
        "handler = RotatingFileHandler(log_file, maxBytes=1024 * 1024, backupCount=5)\n",
        "\n",
        "# Create a formatter\n",
        "formatter = logging.Formatter('%(asctime)s - %(name)s - %(levelname)s - %(message)s')\n",
        "handler.setFormatter(formatter)\n",
        "\n",
        "# Add the handler to the logger\n",
        "# Check if handlers already exist to avoid adding duplicate handlers\n",
        "if not logger.handlers:\n",
        "    logger.addHandler(handler)\n",
        "\n",
        "# Log some messages to demonstrate rotation\n",
        "print(f\"Logging messages to {log_file}. Content will rotate after 1MB.\")\n",
        "for i in range(100): # Log enough messages to likely exceed 1MB\n",
        "    logger.info(f\"This is log message number {i}\")\n",
        "\n",
        "print(\"Logging complete. Check the log file(s).\")\n",
        "\n",
        "# You can check the files created using !ls -l or !cat commands\n",
        "# !ls -l rotating_log.txt*\n",
        "# !cat rotating_log.txt"
      ],
      "metadata": {
        "colab": {
          "base_uri": "https://localhost:8080/"
        },
        "id": "l376wMXcqvWF",
        "outputId": "899a4fe3-a462-4e37-bd19-615a7c5715f3"
      },
      "execution_count": 65,
      "outputs": [
        {
          "output_type": "stream",
          "name": "stderr",
          "text": [
            "INFO:RotatingLogger:This is log message number 0\n",
            "INFO:RotatingLogger:This is log message number 1\n",
            "INFO:RotatingLogger:This is log message number 2\n",
            "INFO:RotatingLogger:This is log message number 3\n",
            "INFO:RotatingLogger:This is log message number 4\n",
            "INFO:RotatingLogger:This is log message number 5\n",
            "INFO:RotatingLogger:This is log message number 6\n",
            "INFO:RotatingLogger:This is log message number 7\n",
            "INFO:RotatingLogger:This is log message number 8\n",
            "INFO:RotatingLogger:This is log message number 9\n",
            "INFO:RotatingLogger:This is log message number 10\n",
            "INFO:RotatingLogger:This is log message number 11\n",
            "INFO:RotatingLogger:This is log message number 12\n",
            "INFO:RotatingLogger:This is log message number 13\n",
            "INFO:RotatingLogger:This is log message number 14\n",
            "INFO:RotatingLogger:This is log message number 15\n",
            "INFO:RotatingLogger:This is log message number 16\n",
            "INFO:RotatingLogger:This is log message number 17\n",
            "INFO:RotatingLogger:This is log message number 18\n",
            "INFO:RotatingLogger:This is log message number 19\n",
            "INFO:RotatingLogger:This is log message number 20\n",
            "INFO:RotatingLogger:This is log message number 21\n",
            "INFO:RotatingLogger:This is log message number 22\n",
            "INFO:RotatingLogger:This is log message number 23\n",
            "INFO:RotatingLogger:This is log message number 24\n",
            "INFO:RotatingLogger:This is log message number 25\n",
            "INFO:RotatingLogger:This is log message number 26\n",
            "INFO:RotatingLogger:This is log message number 27\n",
            "INFO:RotatingLogger:This is log message number 28\n",
            "INFO:RotatingLogger:This is log message number 29\n",
            "INFO:RotatingLogger:This is log message number 30\n",
            "INFO:RotatingLogger:This is log message number 31\n",
            "INFO:RotatingLogger:This is log message number 32\n",
            "INFO:RotatingLogger:This is log message number 33\n",
            "INFO:RotatingLogger:This is log message number 34\n",
            "INFO:RotatingLogger:This is log message number 35\n",
            "INFO:RotatingLogger:This is log message number 36\n",
            "INFO:RotatingLogger:This is log message number 37\n",
            "INFO:RotatingLogger:This is log message number 38\n",
            "INFO:RotatingLogger:This is log message number 39\n",
            "INFO:RotatingLogger:This is log message number 40\n",
            "INFO:RotatingLogger:This is log message number 41\n",
            "INFO:RotatingLogger:This is log message number 42\n",
            "INFO:RotatingLogger:This is log message number 43\n",
            "INFO:RotatingLogger:This is log message number 44\n",
            "INFO:RotatingLogger:This is log message number 45\n",
            "INFO:RotatingLogger:This is log message number 46\n",
            "INFO:RotatingLogger:This is log message number 47\n",
            "INFO:RotatingLogger:This is log message number 48\n",
            "INFO:RotatingLogger:This is log message number 49\n",
            "INFO:RotatingLogger:This is log message number 50\n",
            "INFO:RotatingLogger:This is log message number 51\n",
            "INFO:RotatingLogger:This is log message number 52\n",
            "INFO:RotatingLogger:This is log message number 53\n",
            "INFO:RotatingLogger:This is log message number 54\n",
            "INFO:RotatingLogger:This is log message number 55\n",
            "INFO:RotatingLogger:This is log message number 56\n",
            "INFO:RotatingLogger:This is log message number 57\n",
            "INFO:RotatingLogger:This is log message number 58\n",
            "INFO:RotatingLogger:This is log message number 59\n",
            "INFO:RotatingLogger:This is log message number 60\n",
            "INFO:RotatingLogger:This is log message number 61\n",
            "INFO:RotatingLogger:This is log message number 62\n",
            "INFO:RotatingLogger:This is log message number 63\n",
            "INFO:RotatingLogger:This is log message number 64\n",
            "INFO:RotatingLogger:This is log message number 65\n",
            "INFO:RotatingLogger:This is log message number 66\n",
            "INFO:RotatingLogger:This is log message number 67\n",
            "INFO:RotatingLogger:This is log message number 68\n",
            "INFO:RotatingLogger:This is log message number 69\n",
            "INFO:RotatingLogger:This is log message number 70\n",
            "INFO:RotatingLogger:This is log message number 71\n",
            "INFO:RotatingLogger:This is log message number 72\n",
            "INFO:RotatingLogger:This is log message number 73\n",
            "INFO:RotatingLogger:This is log message number 74\n",
            "INFO:RotatingLogger:This is log message number 75\n",
            "INFO:RotatingLogger:This is log message number 76\n",
            "INFO:RotatingLogger:This is log message number 77\n",
            "INFO:RotatingLogger:This is log message number 78\n",
            "INFO:RotatingLogger:This is log message number 79\n",
            "INFO:RotatingLogger:This is log message number 80\n",
            "INFO:RotatingLogger:This is log message number 81\n",
            "INFO:RotatingLogger:This is log message number 82\n",
            "INFO:RotatingLogger:This is log message number 83\n",
            "INFO:RotatingLogger:This is log message number 84\n",
            "INFO:RotatingLogger:This is log message number 85\n",
            "INFO:RotatingLogger:This is log message number 86\n",
            "INFO:RotatingLogger:This is log message number 87\n",
            "INFO:RotatingLogger:This is log message number 88\n",
            "INFO:RotatingLogger:This is log message number 89\n",
            "INFO:RotatingLogger:This is log message number 90\n",
            "INFO:RotatingLogger:This is log message number 91\n",
            "INFO:RotatingLogger:This is log message number 92\n",
            "INFO:RotatingLogger:This is log message number 93\n",
            "INFO:RotatingLogger:This is log message number 94\n",
            "INFO:RotatingLogger:This is log message number 95\n",
            "INFO:RotatingLogger:This is log message number 96\n",
            "INFO:RotatingLogger:This is log message number 97\n",
            "INFO:RotatingLogger:This is log message number 98\n",
            "INFO:RotatingLogger:This is log message number 99\n"
          ]
        },
        {
          "output_type": "stream",
          "name": "stdout",
          "text": [
            "Logging messages to rotating_log.txt. Content will rotate after 1MB.\n",
            "Logging complete. Check the log file(s).\n"
          ]
        }
      ]
    },
    {
      "cell_type": "markdown",
      "source": [
        " Q19. Write a program that handles both IndexError and KeyError using a try-except block."
      ],
      "metadata": {
        "id": "E2Yx3Ymmqmq3"
      }
    },
    {
      "cell_type": "code",
      "source": [
        "def access_elements(data, key_or_index):\n",
        "  try:\n",
        "    if isinstance(data, dict):\n",
        "      value = data[key_or_index]\n",
        "      print(f\"Value accessed from dictionary: {value}\")\n",
        "    elif isinstance(data, list):\n",
        "      value = data[key_or_index]\n",
        "      print(f\"Value accessed from list: {value}\")\n",
        "    else:\n",
        "      print(\"Unsupported data type.\")\n",
        "  except KeyError:\n",
        "    print(\"Error: The requested dictionary key does not exist.\")\n",
        "  except IndexError:\n",
        "    print(\"Error: The requested list index is out of range.\")\n",
        "  except Exception as e:\n",
        "    print(f\"An unexpected error occurred: {e}\")\n",
        "\n",
        "# Demonstrate with different scenarios\n",
        "my_dict = {\"a\": 1, \"b\": 2}\n",
        "my_list = [10, 20, 30]\n",
        "\n",
        "access_elements(my_dict, \"a\")\n",
        "access_elements(my_dict, \"c\")\n",
        "access_elements(my_list, 1)\n",
        "access_elements(my_list, 5)\n",
        "access_elements(\"hello\", 0) # Demonstrate with an unsupported type"
      ],
      "metadata": {
        "colab": {
          "base_uri": "https://localhost:8080/"
        },
        "id": "7SPWyKtOq2Mm",
        "outputId": "5f405036-0556-4c0e-af94-54d5533d3324"
      },
      "execution_count": 66,
      "outputs": [
        {
          "output_type": "stream",
          "name": "stdout",
          "text": [
            "Value accessed from dictionary: 1\n",
            "Error: The requested dictionary key does not exist.\n",
            "Value accessed from list: 20\n",
            "Error: The requested list index is out of range.\n",
            "Unsupported data type.\n"
          ]
        }
      ]
    },
    {
      "cell_type": "markdown",
      "source": [
        " Q20. How would you open a file and read its contents using a context manager in Python?"
      ],
      "metadata": {
        "id": "zl-yLAFdq5lM"
      }
    },
    {
      "cell_type": "code",
      "source": [
        "# Create a dummy file for demonstration\n",
        "try:\n",
        "    with open(\"my_context_file.txt\", \"w\") as f:\n",
        "        f.write(\"This file is opened using a context manager.\\n\")\n",
        "        f.write(\"The file will be automatically closed.\")\n",
        "except FileExistsError:\n",
        "    pass # File already exists\n",
        "\n",
        "# Open the file using a context manager and read its contents\n",
        "try:\n",
        "    with open(\"my_context_file.txt\", \"r\") as f:\n",
        "        content = f.read()\n",
        "        print(\"File content:\")\n",
        "        print(content)\n",
        "except FileNotFoundError:\n",
        "    print(\"Error: The file was not found.\")\n",
        "except IOError:\n",
        "    print(\"Error: Could not read the file.\")\n",
        "\n",
        "# The file is automatically closed after exiting the 'with' block\n",
        "print(\"\\nFile is closed.\")"
      ],
      "metadata": {
        "colab": {
          "base_uri": "https://localhost:8080/"
        },
        "id": "MrPVXoRqrAjl",
        "outputId": "9f4c79f5-f3fb-4712-c925-06242daa3255"
      },
      "execution_count": 67,
      "outputs": [
        {
          "output_type": "stream",
          "name": "stdout",
          "text": [
            "File content:\n",
            "This file is opened using a context manager.\n",
            "The file will be automatically closed.\n",
            "\n",
            "File is closed.\n"
          ]
        }
      ]
    },
    {
      "cell_type": "markdown",
      "source": [
        "Q21. Write a Python program that reads a file and prints the number of occurrences of a specific word."
      ],
      "metadata": {
        "id": "mN2OwYIXrF8t"
      }
    },
    {
      "cell_type": "code",
      "source": [
        "import re\n",
        "\n",
        "# Create a dummy file for demonstration\n",
        "file_path = \"sample_text_file.txt\"\n",
        "try:\n",
        "    with open(file_path, \"w\") as f:\n",
        "        f.write(\"This is a sample text file.\\n\")\n",
        "        f.write(\"This file contains sample text, and the word sample appears multiple times.\\n\")\n",
        "        f.write(\"Another line with sample.\")\n",
        "except FileExistsError:\n",
        "    pass # File already exists\n",
        "\n",
        "def count_word_occurrences(file_path, word_to_find):\n",
        "  \"\"\"Reads a file and counts the occurrences of a specific word.\"\"\"\n",
        "  count = 0\n",
        "  try:\n",
        "    with open(file_path, \"r\") as f:\n",
        "      content = f.read().lower() # Read content and convert to lowercase for case-insensitive matching\n",
        "      # Use regex to find the word. \\b ensures whole word matching.\n",
        "      occurrences = re.findall(r'\\b' + re.escape(word_to_find.lower()) + r'\\b', content)\n",
        "      count = len(occurrences)\n",
        "    print(f\"The word '{word_to_find}' appears {count} times in '{file_path}'.\")\n",
        "  except FileNotFoundError:\n",
        "    print(f\"Error: The file '{file_path}' was not found.\")\n",
        "  except IOError:\n",
        "    print(f\"Error: Could not read the file '{file_path}'.\")\n",
        "\n",
        "# Demonstrate the function\n",
        "word_to_count = \"sample\"\n",
        "count_word_occurrences(file_path, word_to_count)\n",
        "\n",
        "word_to_count_2 = \"This\"\n",
        "count_word_occurrences(file_path, word_to_count_2)\n",
        "\n",
        "word_to_count_3 = \"nonexistent\"\n",
        "count_word_occurrences(file_path, word_to_count_3)"
      ],
      "metadata": {
        "colab": {
          "base_uri": "https://localhost:8080/"
        },
        "id": "dAmp7qlFrFe1",
        "outputId": "402584aa-9418-4b0e-c2fa-f0844ef7aabb"
      },
      "execution_count": 68,
      "outputs": [
        {
          "output_type": "stream",
          "name": "stdout",
          "text": [
            "The word 'sample' appears 4 times in 'sample_text_file.txt'.\n",
            "The word 'This' appears 2 times in 'sample_text_file.txt'.\n",
            "The word 'nonexistent' appears 0 times in 'sample_text_file.txt'.\n"
          ]
        }
      ]
    },
    {
      "cell_type": "markdown",
      "source": [
        "Q22. How can you check if a file is empty before attempting to read its contents?"
      ],
      "metadata": {
        "id": "2fWblPtjrPks"
      }
    },
    {
      "cell_type": "code",
      "source": [
        "import os\n",
        "\n",
        "# Create dummy files for demonstration\n",
        "file_path_empty = \"empty_file_check.txt\"\n",
        "file_path_with_content = \"file_with_content_check.txt\"\n",
        "\n",
        "try:\n",
        "    with open(file_path_empty, \"w\") as f:\n",
        "        pass # Create an empty file\n",
        "except FileExistsError:\n",
        "    pass\n",
        "\n",
        "try:\n",
        "    with open(file_path_with_content, \"w\") as f:\n",
        "        f.write(\"This file has some content.\")\n",
        "except FileExistsError:\n",
        "    pass\n",
        "\n",
        "def is_file_empty(file_path):\n",
        "  \"\"\"Checks if a file is empty.\"\"\"\n",
        "  try:\n",
        "    # Get the size of the file in bytes\n",
        "    file_size = os.path.getsize(file_path)\n",
        "    return file_size == 0\n",
        "  except FileNotFoundError:\n",
        "    print(f\"Error: The file '{file_path}' was not found.\")\n",
        "    return False # File not found, so not empty in the context of existing files\n",
        "  except Exception as e:\n",
        "    print(f\"An error occurred while checking file size: {e}\")\n",
        "    return False\n",
        "\n",
        "# Demonstrate checking for empty files\n",
        "print(f\"Is '{file_path_empty}' empty? {is_file_empty(file_path_empty)}\")\n",
        "print(f\"Is '{file_path_with_content}' empty? {is_file_empty(file_path_with_content)}\")\n",
        "print(f\"Is 'nonexistent_file.txt' empty? {is_file_empty('nonexistent_file.txt')}\")"
      ],
      "metadata": {
        "colab": {
          "base_uri": "https://localhost:8080/"
        },
        "id": "tsa49WdZrUGE",
        "outputId": "aa76d56c-86da-4ac8-ebec-da6c15482f6b"
      },
      "execution_count": 69,
      "outputs": [
        {
          "output_type": "stream",
          "name": "stdout",
          "text": [
            "Is 'empty_file_check.txt' empty? True\n",
            "Is 'file_with_content_check.txt' empty? False\n",
            "Error: The file 'nonexistent_file.txt' was not found.\n",
            "Is 'nonexistent_file.txt' empty? False\n"
          ]
        }
      ]
    },
    {
      "cell_type": "markdown",
      "source": [
        "Q23. Write a Python program that writes to a log file when an error occurs during file handling."
      ],
      "metadata": {
        "id": "nMB7aNOWrZZU"
      }
    },
    {
      "cell_type": "code",
      "source": [
        "import logging\n",
        "import os\n",
        "\n",
        "# Define the log file path\n",
        "log_file = \"file_handling_errors.log\"\n",
        "\n",
        "# Configure logging to write to a file\n",
        "logging.basicConfig(filename=log_file, level=logging.ERROR,\n",
        "                    format='%(asctime)s:%(levelname)s:%(message)s')\n",
        "\n",
        "def read_file_with_error_logging(file_path):\n",
        "  \"\"\"Attempts to read a file and logs an error if it fails.\"\"\"\n",
        "  try:\n",
        "    with open(file_path, \"r\") as f:\n",
        "      content = f.read()\n",
        "      print(f\"Successfully read content from '{file_path}'.\")\n",
        "      print(\"Content:\")\n",
        "      print(content)\n",
        "  except FileNotFoundError:\n",
        "    logging.error(f\"Error: File not found when trying to read '{file_path}'.\")\n",
        "    print(f\"Could not read file '{file_path}'. Error logged.\")\n",
        "  except IOError as e:\n",
        "    logging.error(f\"Error: An I/O error occurred while reading '{file_path}': {e}\")\n",
        "    print(f\"Could not read file '{file_path}'. Error logged.\")\n",
        "  except Exception as e:\n",
        "    logging.error(f\"Error: An unexpected error occurred while handling '{file_path}': {e}\")\n",
        "    print(f\"Could not read file '{file_path}'. Error logged.\")\n",
        "\n",
        "# Demonstrate with a non-existent file\n",
        "print(\"Attempting to read a non-existent file:\")\n",
        "read_file_with_error_logging(\"nonexistent_file_for_logging.txt\")\n",
        "\n",
        "# You can check the content of the log file using\n",
        "# !cat file_handling_errors.log"
      ],
      "metadata": {
        "colab": {
          "base_uri": "https://localhost:8080/"
        },
        "id": "OjCWbLEnrYuV",
        "outputId": "aadbab2a-f8b4-403c-ae9a-df7dffccd861"
      },
      "execution_count": 70,
      "outputs": [
        {
          "output_type": "stream",
          "name": "stderr",
          "text": [
            "ERROR:root:Error: File not found when trying to read 'nonexistent_file_for_logging.txt'.\n"
          ]
        },
        {
          "output_type": "stream",
          "name": "stdout",
          "text": [
            "Attempting to read a non-existent file:\n",
            "Could not read file 'nonexistent_file_for_logging.txt'. Error logged.\n"
          ]
        }
      ]
    }
  ]
}
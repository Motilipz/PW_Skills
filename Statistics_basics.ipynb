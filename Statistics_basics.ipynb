{
  "nbformat": 4,
  "nbformat_minor": 0,
  "metadata": {
    "colab": {
      "provenance": [],
      "authorship_tag": "ABX9TyPcm/uUeR4tbY0opUXwMrtF",
      "include_colab_link": true
    },
    "kernelspec": {
      "name": "python3",
      "display_name": "Python 3"
    },
    "language_info": {
      "name": "python"
    }
  },
  "cells": [
    {
      "cell_type": "markdown",
      "metadata": {
        "id": "view-in-github",
        "colab_type": "text"
      },
      "source": [
        "<a href=\"https://colab.research.google.com/github/Motilipz/PW_Skills/blob/main/Statistics_basics.ipynb\" target=\"_parent\"><img src=\"https://colab.research.google.com/assets/colab-badge.svg\" alt=\"Open In Colab\"/></a>"
      ]
    },
    {
      "cell_type": "markdown",
      "source": [
        "## Statistics Basics Assignment"
      ],
      "metadata": {
        "id": "-mr5JXoPD1_K"
      }
    },
    {
      "cell_type": "markdown",
      "source": [
        "### Question 1: What is the difference between descriptive statistics and inferential statistics? Explain with examples.\n"
      ],
      "metadata": {
        "id": "2N2YQj67D0bY"
      }
    },
    {
      "cell_type": "markdown",
      "source": [
        "Ans:-\n",
        "\n",
        "- Descriptive statistics summarize data from a sample using measures like mean, median, mode, and standard deviation.\n",
        "- Inferential statistics use sample data to make predictions or generalizations about a population.\n",
        "- Example: Descriptive—“Average height of students in a class is 165 cm.” Inferential—“Based on this class, we estimate the average height of all students in the school.”\n"
      ],
      "metadata": {
        "id": "kYXULihgDzyU"
      }
    },
    {
      "cell_type": "markdown",
      "source": [
        "### Question 2: What is sampling in statistics? Explain the differences between random and stratified sampling."
      ],
      "metadata": {
        "id": "5at0ZMbFDzpm"
      }
    },
    {
      "cell_type": "markdown",
      "source": [
        "Sampling is selecting a subset of individuals from a population to estimate characteristics of the whole.\n",
        "- Random sampling: Every individual has an equal chance of selection.\n",
        "- Stratified sampling: Population is divided into subgroups (strata), and samples are taken from each subgroup.\n"
      ],
      "metadata": {
        "id": "Mmsxr7PmDzZJ"
      }
    },
    {
      "cell_type": "markdown",
      "source": [
        "### Question 3: Define mean, median, and mode. Explain why these measures of central tendency are important."
      ],
      "metadata": {
        "id": "hfKfxtF7EYqv"
      }
    },
    {
      "cell_type": "markdown",
      "source": [
        "-\tMean: The average of all values in a dataset, calculated by summing values and dividing by the total count. It is sensitive to outliers.\n",
        "-\tMedian: The middle value in an ordered dataset. If there's an even number of data points, it's the average of the two middle values. It's less affected by outliers than the mean.\n",
        "-\tMode: The most frequently occurring value in a dataset. A dataset can have one, multiple, or no modes. It's useful for categorical data.\n"
      ],
      "metadata": {
        "id": "9AgqkchvEYek"
      }
    },
    {
      "cell_type": "markdown",
      "source": [
        "Question 4: Explain skewness and kurtosis. What does a positive skew imply about the data?"
      ],
      "metadata": {
        "id": "HylpKUn2EYcK"
      }
    },
    {
      "cell_type": "markdown",
      "source": [
        "Ans:-\n",
        "\n",
        "- Skewness quantifies the asymmetry of a distribution\n",
        "- Kurtosis describes the \"tailedness\" and peakedness of a distribution relative to a normal distribution\n",
        "\n",
        "Positive Skew means that the most data is on the left, and a few large values pull the mean to the right (mean > median). Income data is a common example.\n"
      ],
      "metadata": {
        "id": "3G_Gai8FEYYI"
      }
    },
    {
      "cell_type": "markdown",
      "source": [
        "Question 5: Implement a Python program to compute the mean, median, and mode of\n",
        "a given list of numbers.\n",
        "\n",
        "numbers = [12, 15, 12, 18, 19, 12, 20, 22, 19, 19, 24, 24, 24, 26, 28]"
      ],
      "metadata": {
        "id": "rLxYJAqEWII1"
      }
    },
    {
      "cell_type": "code",
      "source": [
        "import numpy as np\n",
        "from scipy import stats\n",
        "\n",
        "numbers = [12, 15, 12, 18, 19, 12, 20, 22, 19, 19, 24, 24, 24, 26, 28]\n",
        "mean = np.mean(numbers)\n",
        "median = np.median(numbers)\n",
        "mode_result = stats.mode(numbers)\n",
        "print(f\"The mean of the numbers is: {mean}\")\n",
        "print(f\"The median of the numbers is: {median}\")\n",
        "print(f\"The mode of the numbers is: {mode_result[0]}\")"
      ],
      "metadata": {
        "colab": {
          "base_uri": "https://localhost:8080/"
        },
        "id": "jiZuQEIdTDDF",
        "outputId": "f045a824-1bf6-49f6-ec20-6d7a39eda5b2"
      },
      "execution_count": 24,
      "outputs": [
        {
          "output_type": "stream",
          "name": "stdout",
          "text": [
            "The mean of the numbers is: 19.6\n",
            "The median of the numbers is: 19.0\n",
            "The mode of the numbers is: 12\n"
          ]
        }
      ]
    },
    {
      "cell_type": "markdown",
      "source": [
        "Question 6: Compute the covariance and correlation coefficient between the following\n",
        "two datasets provided as lists in Python:\n",
        "\n",
        "list_x = [10, 20, 30, 40, 50]\n",
        "\n",
        "list_y = [15, 25, 35, 45, 60]"
      ],
      "metadata": {
        "id": "PVqTD5YM9mCk"
      }
    },
    {
      "cell_type": "code",
      "source": [
        "import pandas as pd\n",
        "list_x =[10,20,30,40,50]\n",
        "list_y = [15,25,35,45,60]\n",
        "cor = np.corrcoef(list_x,list_y)\n",
        "cov = np.cov(list_x,list_y)\n",
        "print(f\"The correlation coefficient between list_x and list_y is: {cor[0,1]}\")\n",
        "print(f\"The covariance between list_x and list_y is: {cov[0,1]}\")"
      ],
      "metadata": {
        "colab": {
          "base_uri": "https://localhost:8080/"
        },
        "id": "OIx0GGdoaOh3",
        "outputId": "339a4445-a68a-40cf-cba6-0a4a51b280d3"
      },
      "execution_count": 36,
      "outputs": [
        {
          "output_type": "stream",
          "name": "stdout",
          "text": [
            "The correlation coefficient between list_x and list_y is: 0.995893206467704\n",
            "The covariance between list_x and list_y is: 275.0\n"
          ]
        }
      ]
    },
    {
      "cell_type": "markdown",
      "source": [
        "Question 7: Write a Python script to draw a boxplot for the following numeric list and\n",
        "identify its outliers. Explain the result:\n",
        "\n",
        "data = [12, 14, 14, 15, 18, 19, 19, 21, 22, 22, 23, 23, 24, 26, 29, 35]"
      ],
      "metadata": {
        "id": "dfElePfG93ri"
      }
    },
    {
      "cell_type": "code",
      "source": [
        "import matplotlib.pyplot as plt\n",
        "import numpy as np\n",
        "data = [12, 14, 14, 15, 18, 19, 19, 21, 22, 22, 23, 23, 24, 26, 29, 35]\n",
        "plt.boxplot(data)\n",
        "plt.show()\n",
        "\n",
        "third_quartile = np.percentile(data, 75)\n",
        "first_quartile = np.percentile(data, 25)\n",
        "iqr = third_quartile - first_quartile\n",
        "lower_bound = first_quartile - 1.5 * iqr\n",
        "upper_bound = third_quartile + 1.5 * iqr\n",
        "outliers = [x for x in data if x < lower_bound or x > upper_bound]\n",
        "print(f\"The outliers in the given data are: {outliers}\")"
      ],
      "metadata": {
        "colab": {
          "base_uri": "https://localhost:8080/",
          "height": 447
        },
        "id": "48hit_Aepbfi",
        "outputId": "b0f63fc8-1b07-4e11-e740-c4f1464246b9"
      },
      "execution_count": 40,
      "outputs": [
        {
          "output_type": "display_data",
          "data": {
            "text/plain": [
              "<Figure size 640x480 with 1 Axes>"
            ],
            "image/png": "[encoded data removed]"
          },
          "metadata": {}
        },
        {
          "output_type": "stream",
          "name": "stdout",
          "text": [
            "The outliers in the given data are: [35]\n"
          ]
        }
      ]
    },
    {
      "cell_type": "markdown",
      "source": [
        "Question 8: You are working as a data analyst in an e-commerce company. The\n",
        "marketing team wants to know if there is a relationship between advertising spend and\n",
        "daily sales.\n",
        "- Explain how you would use covariance and correlation to explore this\n",
        "relationship.\n",
        "- Write Python code to compute the correlation between the two lists:\n",
        "\n",
        "advertising_spend = [200, 250, 300, 400, 500]   \n",
        "daily_sales = [2200, 2450, 2750, 3200, 4000]"
      ],
      "metadata": {
        "id": "RVh1JqGI_Agk"
      }
    },
    {
      "cell_type": "code",
      "source": [
        "import numpy as np\n",
        "\n",
        "advertising_spend = [200, 250, 300, 400, 500]\n",
        "daily_sales = [2200, 2450, 2750, 3200, 4000]\n",
        "\n",
        "correlation_coefficient = np.corrcoef(advertising_spend, daily_sales)[0, 1]\n",
        "print(f\"The correlation coefficient between advertising spend and daily sales is: {correlation_coefficient}\")\n",
        "\n",
        "covariance = np.cov(advertising_spend, daily_sales)[0, 1]\n",
        "print(f\"The covariance between advertising spend and daily sales is: {covariance}\")\n",
        "\n",
        "# explanation of the findings\n",
        "print(\"The correlation coefficient indicates a positive relationship between advertising spend and daily sales.\")\n",
        "print(\"The covariance between advertising spend and daily sales is positive, suggesting a positive relationship.\")\n",
        "# Explain how you would use covariance and correlation to explore this relationship.\n",
        "print(\"Covariance and correlation can be used to explore the relationship between advertising spend and daily sales.\")"
      ],
      "metadata": {
        "colab": {
          "base_uri": "https://localhost:8080/"
        },
        "id": "e20qzXSOnUIb",
        "outputId": "912274af-9266-4706-facd-897ca3389c6f"
      },
      "execution_count": 43,
      "outputs": [
        {
          "output_type": "stream",
          "name": "stdout",
          "text": [
            "The correlation coefficient between advertising spend and daily sales is: 0.9935824101653329\n",
            "The covariance between advertising spend and daily sales is: 84875.0\n",
            "The correlation coefficient indicates a positive relationship between advertising spend and daily sales.\n",
            "The covariance between advertising spend and daily sales is positive, suggesting a positive relationship.\n",
            "Covariance and correlation can be used to explore the relationship between advertising spend and daily sales.\n"
          ]
        }
      ]
    },
    {
      "cell_type": "markdown",
      "metadata": {
        "id": "e53895ce"
      },
      "source": [
        "### Question 9: Customer Satisfaction Survey Data Analysis\n",
        "\n",
        "To understand the distribution of the customer satisfaction survey data (on a scale of 1-10) before launching a new product, you would typically use the following summary statistics and visualizations:\n",
        "\n",
        "**Summary Statistics:**\n",
        "\n",
        "*   **Mean:** The average satisfaction score. This gives a central value around which the data is distributed.\n",
        "*   **Median:** The middle value of the sorted satisfaction scores. This is useful for understanding the typical score, especially if the data is skewed.\n",
        "*   **Mode:** The most frequent satisfaction score. This tells you which score was given by the largest number of customers.\n",
        "*   **Standard Deviation:** A measure of the spread or dispersion of the satisfaction scores around the mean. A higher standard deviation indicates greater variability in the responses.\n",
        "*   **Minimum and Maximum:** The lowest and highest satisfaction scores. These indicate the range of the data.\n",
        "\n",
        "**Visualizations:**\n",
        "\n",
        "*   **Histogram:** A histogram is an excellent visualization for understanding the distribution of numerical data. It shows the frequency of scores within different bins or intervals. This helps to identify the shape of the distribution (e.g., normal, skewed), the most common scores, and the range of scores.\n",
        "*   **Boxplot:** A boxplot can also be useful for visualizing the distribution, especially for identifying the median, quartiles, and potential outliers."
      ]
    },
    {
      "cell_type": "markdown",
      "source": [
        "Question 9: Your team has collected customer satisfaction survey data on a scale of\n",
        "1-10 and wants to understand its distribution before launching a new product.\n",
        "- Explain which summary statistics and visualizations (e.g. mean, standard\n",
        "deviation, histogram) you’d use.\n",
        "- Write Python code to create a histogram using Matplotlib for the survey data:\n",
        "\n",
        "survey_scores = [7, 8, 5, 9, 6, 7, 8, 9, 10, 4, 7, 6, 9, 8, 7]"
      ],
      "metadata": {
        "id": "f0Fd29vc-mhD"
      }
    },
    {
      "cell_type": "markdown",
      "source": [
        "Ans:-\n",
        "\n",
        "Summary Statistics:\n",
        "\n",
        "- Mean: The average satisfaction score. This gives a central value around which the data is distributed.\n",
        "- Median: The middle value of the sorted satisfaction scores. This is useful for understanding the typical score, especially if the data is skewed.\n",
        "- Mode: The most frequent satisfaction score. This tells you which score was given by the largest number of customers.\n",
        "- Standard Deviation: A measure of the spread or dispersion of the satisfaction scores around the mean. A higher standard deviation indicates greater variability in the responses.\n",
        "- Minimum and Maximum: The lowest and highest satisfaction scores. These indicate the range of the data.\n",
        "\n",
        "Visualizations:\n",
        "\n",
        "- Histogram: A histogram is an excellent visualization for understanding the distribution of numerical data. It shows the frequency of scores within different bins or intervals. This helps to identify the shape of the distribution (e.g., normal, skewed), the most common scores, and the range of scores.\n",
        "- Boxplot: A boxplot can also be useful for visualizing the distribution, especially for identifying the median, quartiles, and potential outliers."
      ],
      "metadata": {
        "id": "pw3tPZuHDMYJ"
      }
    },
    {
      "cell_type": "code",
      "source": [
        "import matplotlib.pyplot as plt\n",
        "\n",
        "survey_scores = [7, 8, 5, 9, 6, 7, 8, 9, 10, 4, 7, 6, 9, 8, 7]\n",
        "\n",
        "plt.hist(survey_scores, bins=range(min(survey_scores), max(survey_scores) + 2), align='left', rwidth=0.8)\n",
        "plt.xlabel(\"Customer Satisfaction Score\")\n",
        "plt.ylabel(\"Frequency\")\n",
        "plt.title(\"Distribution of Customer Satisfaction Scores\")\n",
        "plt.xticks(range(min(survey_scores), max(survey_scores) + 1))\n",
        "plt.grid(axis='y', alpha=0.75)\n",
        "plt.show()"
      ],
      "metadata": {
        "colab": {
          "base_uri": "https://localhost:8080/",
          "height": 472
        },
        "id": "J9TCv9JLnUCR",
        "outputId": "72228aa3-2743-4bb0-bc28-12b6c5306976"
      },
      "execution_count": 44,
      "outputs": [
        {
          "output_type": "display_data",
          "data": {
            "text/plain": [
              "<Figure size 640x480 with 1 Axes>"
            ],
            "image/png": "[encoded data removed]"
          },
          "metadata": {}
        }
      ]
    }
  ]
}
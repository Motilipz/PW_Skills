{
  "nbformat": 4,
  "nbformat_minor": 0,
  "metadata": {
    "colab": {
      "provenance": [],
      "authorship_tag": "ABX9TyPO7nS2CqVeOeZNOYtVyG7J",
      "include_colab_link": true
    },
    "kernelspec": {
      "name": "python3",
      "display_name": "Python 3"
    },
    "language_info": {
      "name": "python"
    }
  },
  "cells": [
    {
      "cell_type": "markdown",
      "metadata": {
        "id": "view-in-github",
        "colab_type": "text"
      },
      "source": [
        "<a href=\"https://colab.research.google.com/github/Motilipz/PW_Skills/blob/main/Statistics_Advanced_01.ipynb\" target=\"_parent\"><img src=\"https://colab.research.google.com/assets/colab-badge.svg\" alt=\"Open In Colab\"/></a>"
      ]
    },
    {
      "cell_type": "markdown",
      "source": [
        "## Statistics Advanced - 1 | Assignment"
      ],
      "metadata": {
        "id": "lPaXJKOCh-Ws"
      }
    },
    {
      "cell_type": "markdown",
      "source": [
        "**Question 1: What is a random variable in probability theory?**"
      ],
      "metadata": {
        "id": "N0OAiXPdh-T_"
      }
    },
    {
      "cell_type": "markdown",
      "source": [
        "Ans:-\n",
        "\n",
        "A random variable is a numerical outcome of a random phenomenon. It assigns a real number to each possible outcome in a sample space. For example, rolling a die can be modeled by a random variable that takes values from 1 to 6."
      ],
      "metadata": {
        "id": "F00kkA4_h-Q4"
      }
    },
    {
      "cell_type": "markdown",
      "source": [
        "**Question 2: What are the types of random variables?**"
      ],
      "metadata": {
        "id": "4cCEBsN6h-N-"
      }
    },
    {
      "cell_type": "markdown",
      "source": [
        "Ans:-\n",
        "\n",
        "There are two main types:\n",
        "\n",
        "- **Discrete Random Variables:** Take on countable values (e.g., number of heads in 10 coin tosses).\n",
        "\n",
        "- **Continuous Random Variables:** Take on any value within a range (e.g., height of individuals)."
      ],
      "metadata": {
        "id": "EmIyP9EWh-K_"
      }
    },
    {
      "cell_type": "markdown",
      "source": [
        "**Question 3: Explain the difference between discrete and continuous distributions.**"
      ],
      "metadata": {
        "id": "9NpsnTNFh85O"
      }
    },
    {
      "cell_type": "markdown",
      "source": [
        "Ans:-\n",
        "\n",
        "- **Discrete distributions** describe probabilities for discrete random variables (e.g., binomial, Poisson).\n",
        "\n",
        "- **Continuous distributions** describe probabilities over intervals for continuous variables (e.g., normal, exponential)."
      ],
      "metadata": {
        "id": "bcknaPxJkCAZ"
      }
    },
    {
      "cell_type": "markdown",
      "source": [
        "**Question 4: What is a binomial distribution, and how is it used in probability?**"
      ],
      "metadata": {
        "id": "wBu8ztXukB9Z"
      }
    },
    {
      "cell_type": "markdown",
      "source": [
        "Ans:-\n",
        "\n",
        "A binomial distribution models the number of successes in a fixed number of independent Bernoulli trials (yes/no outcomes), each with the same probability of success. It's used in scenarios like predicting the number of defective items in a batch."
      ],
      "metadata": {
        "id": "eCVo2q0ukB5l"
      }
    },
    {
      "cell_type": "markdown",
      "source": [
        "**Question 5: What is the standard normal distribution, and why is it important?**"
      ],
      "metadata": {
        "id": "VgujH-rSkB2t"
      }
    },
    {
      "cell_type": "markdown",
      "source": [
        "Ans:-\n",
        "\n",
        "The standard normal distribution is a normal distribution with mean 0 and standard deviation 1. It's crucial because many statistical methods rely on it for hypothesis testing, confidence intervals, and z-scores."
      ],
      "metadata": {
        "id": "7uHXI-B-mvtK"
      }
    },
    {
      "cell_type": "markdown",
      "source": [
        "**Question 6: What is the Central Limit Theorem (CLT), and why is it critical in statistics?**"
      ],
      "metadata": {
        "id": "xJMu_s5jkB0K"
      }
    },
    {
      "cell_type": "markdown",
      "source": [
        "Ans:-\n",
        "\n",
        "The CLT states that the sampling distribution of the sample mean approaches a normal distribution as the sample size increases, regardless of the population's distribution. It's vital because it allows us to make inferences about population parameters using sample statistics."
      ],
      "metadata": {
        "id": "b-eW4Rptm1Nr"
      }
    },
    {
      "cell_type": "markdown",
      "source": [
        "**Question 7: What is the significance of confidence intervals in statistical analysis?**"
      ],
      "metadata": {
        "id": "VA40oebnknVr"
      }
    },
    {
      "cell_type": "markdown",
      "source": [
        "Ans:-\n",
        "\n",
        "Confidence intervals provide a range of values within which the true population parameter is likely to fall. They quantify uncertainty and are essential for decision-making under uncertainty."
      ],
      "metadata": {
        "id": "uiVLpbDVm8KR"
      }
    },
    {
      "cell_type": "markdown",
      "source": [
        "**Question 8: What is the concept of expected value in a probability distribution?**"
      ],
      "metadata": {
        "id": "hj7TsBz5kqq6"
      }
    },
    {
      "cell_type": "markdown",
      "source": [
        "Ans:-\n",
        "\n",
        "The expected value is the long-run average or mean of a random variable. It’s calculated by summing the products of each possible value and its probability. It represents the center of the distribution."
      ],
      "metadata": {
        "id": "Ex04HHv5nA9o"
      }
    },
    {
      "cell_type": "markdown",
      "source": [
        "**Question 9: Write a Python program to generate 1000 random numbers from a normal distribution with mean = 50 and standard deviation = 5. Compute its mean and standard deviation using NumPy, and draw a histogram to visualize the distribution.**"
      ],
      "metadata": {
        "id": "mhKX_d3IkBwm"
      }
    },
    {
      "cell_type": "code",
      "source": [
        "import numpy as np\n",
        "import matplotlib.pyplot as plt\n",
        "\n",
        "# Generate 1000 random numbers from a normal distribution\n",
        "data = np.random.normal(loc=50, scale=5, size=1000)\n",
        "\n",
        "# Compute the mean and standard deviation using NumPy\n",
        "mean = np.mean(data)\n",
        "std_dev = np.std(data)\n",
        "\n",
        "print(f\"Mean: {mean}\")\n",
        "print(f\"Standard Deviation: {std_dev}\")\n",
        "\n",
        "# Draw a histogram to visualize the distribution\n",
        "plt.hist(data, bins=30, edgecolor='k')\n",
        "plt.xlabel('Value')\n",
        "plt.ylabel('Frequency')\n",
        "plt.title('Histogram of Random Numbers')\n",
        "plt.show()"
      ],
      "metadata": {
        "colab": {
          "base_uri": "https://localhost:8080/",
          "height": 507
        },
        "id": "-jraW4wrnW6Z",
        "outputId": "00fe9625-0b29-4377-be9f-90569b5670a9"
      },
      "execution_count": 5,
      "outputs": [
        {
          "output_type": "stream",
          "name": "stdout",
          "text": [
            "Mean: 49.83809909781506\n",
            "Standard Deviation: 4.8984166725016784\n"
          ]
        },
        {
          "output_type": "display_data",
          "data": {
            "text/plain": [
              "<Figure size 640x480 with 1 Axes>"
            ],
            "image/png": "[encoded data removed]"
          },
          "metadata": {}
        }
      ]
    },
    {
      "cell_type": "markdown",
      "source": [
        "**Question 10: You are working as a data analyst for a retail company. The company has collected daily sales data for 2 years and wants you to identify the overall sales trend.**\n",
        "\n",
        "`daily_sales = [220, 245, 210, 265, 230, 250, 260, 275, 240, 255, 235, 260, 245, 250, 225, 270, 265, 255, 250, 260]`\n",
        "- Explain how you would apply the Central Limit Theorem to estimate the average sales with a 95% confidence interval.\n",
        "- Write the Python code to compute the mean sales and its confidence interval.\n",
        "\n",
        "Ans:-\n",
        "\n",
        "The Central Limit Theorem (CLT) is crucial here. While the sales data for the entire two years (which is a population) is not provided, the daily sales data for the provided sample can be used to estimate the average sales. Even if the underlying distribution of daily sales is not normal, the CLT states that the distribution of sample means will approach a normal distribution as the sample size increases. With a sufficiently large sample size (in this case, 20 daily sales), we can use the CLT to make inferences about the population mean (the true average daily sales over 2 years)."
      ],
      "metadata": {
        "id": "yf5SLoe9lCTj"
      }
    },
    {
      "cell_type": "code",
      "execution_count": 7,
      "metadata": {
        "colab": {
          "base_uri": "https://localhost:8080/"
        },
        "id": "iFJT8iGWhwRv",
        "outputId": "9ae7597d-5443-45fe-a16a-0b6caca40817"
      },
      "outputs": [
        {
          "output_type": "stream",
          "name": "stdout",
          "text": [
            "Mean Sales: 248.25\n",
            "95% Confidence Interval: (240.68326838343515, 255.81673161656485)\n"
          ]
        }
      ],
      "source": [
        "import numpy as np\n",
        "from scipy.stats import norm\n",
        "\n",
        "sales = [220, 245, 210, 265, 230, 250, 260, 275, 240, 255, 235, 260, 245, 250, 225, 270, 265, 255, 250, 260]\n",
        "mean = np.mean(sales)\n",
        "std_dev = np.std(sales, ddof=1)\n",
        "n = len(sales)\n",
        "z = norm.ppf(0.975)\n",
        "\n",
        "ci_lower = mean - z * (std_dev / np.sqrt(n))\n",
        "ci_upper = mean + z * (std_dev / np.sqrt(n))\n",
        "\n",
        "print(f\"Mean Sales: {mean}\")\n",
        "print(f\"95% Confidence Interval: ({ci_lower}, {ci_upper})\")"
      ]
    }
  ]
}
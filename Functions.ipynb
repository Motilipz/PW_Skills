{
  "nbformat": 4,
  "nbformat_minor": 0,
  "metadata": {
    "colab": {
      "provenance": []
    },
    "kernelspec": {
      "name": "python3",
      "display_name": "Python 3"
    },
    "language_info": {
      "name": "python"
    }
  },
  "cells": [
    {
      "cell_type": "markdown",
      "source": [
        "## Pratical Questions:"
      ],
      "metadata": {
        "id": "LnDusPuUZeLd"
      }
    },
    {
      "cell_type": "markdown",
      "source": [
        "Q1. Write a Python function that takes a list of numbers as input and returns the sum of all even numbers in\n",
        "the list."
      ],
      "metadata": {
        "id": "tLe19ytiZnCs"
      }
    },
    {
      "cell_type": "code",
      "execution_count": null,
      "metadata": {
        "colab": {
          "base_uri": "https://localhost:8080/"
        },
        "id": "6AJFGX_U35L7",
        "outputId": "811a93d5-0318-4572-8813-cd94357903cc"
      },
      "outputs": [
        {
          "output_type": "stream",
          "name": "stdout",
          "text": [
            "10\n"
          ]
        }
      ],
      "source": [
        "def listsum(*args):\n",
        "  add = 0\n",
        "  for i in args:\n",
        "    add+= i\n",
        "  return add\n",
        "List = [1,2,3,4]\n",
        "print(listsum(*List))"
      ]
    },
    {
      "cell_type": "markdown",
      "source": [
        "Q2. Create a Python function that accepts a string and returns the reverse of that string."
      ],
      "metadata": {
        "id": "dQNFE4K8ZxBr"
      }
    },
    {
      "cell_type": "code",
      "source": [
        "def reverse(str):\n",
        "  a = \"\"\n",
        "  i = -1\n",
        "  for _ in str:\n",
        "    a+=str[i]\n",
        "    i-=1\n",
        "  print(f'The Reversed String is: {a}')\n",
        "\n",
        "reverse(\"Shubham Kumar\")"
      ],
      "metadata": {
        "colab": {
          "base_uri": "https://localhost:8080/"
        },
        "id": "4IzN15a9RSIK",
        "outputId": "2a739882-1f15-41c8-e125-d0e31faf5853"
      },
      "execution_count": null,
      "outputs": [
        {
          "output_type": "stream",
          "name": "stdout",
          "text": [
            "The Reversed String is: ramuK mahbuhS\n"
          ]
        }
      ]
    },
    {
      "cell_type": "markdown",
      "source": [
        "Q3. Implement a Python function that takes a list of integers and returns a new list containing the squares of\n",
        "each number."
      ],
      "metadata": {
        "id": "_HbC0fwKZ_rr"
      }
    },
    {
      "cell_type": "code",
      "source": [
        "def Squared(*args):\n",
        "  a=[]\n",
        "  for i in args:\n",
        "    a.append(i**2)\n",
        "  return a\n",
        "l1=[1,2,3,4,5]\n",
        "print(Squared(*l1))"
      ],
      "metadata": {
        "colab": {
          "base_uri": "https://localhost:8080/"
        },
        "id": "GYUx345C6X_6",
        "outputId": "29810bac-01b3-48eb-c2e0-c95cc2d1d215"
      },
      "execution_count": null,
      "outputs": [
        {
          "output_type": "stream",
          "name": "stdout",
          "text": [
            "[1, 4, 9, 16, 25]\n"
          ]
        }
      ]
    },
    {
      "cell_type": "markdown",
      "source": [
        "Q4. Write a Python function that checks if a given number is prime or not from 1 to 200."
      ],
      "metadata": {
        "id": "nP7iTt2KaKGL"
      }
    },
    {
      "cell_type": "code",
      "source": [
        "def checkops(n):\n",
        "  if n>200 or n<1 :\n",
        "    return f\"{n} is not from 1 to 200\"\n",
        "  else:\n",
        "    for i in range(2,n-1):\n",
        "      if n%i ==0:\n",
        "        return f\"{n} is not Prime\"\n",
        "      else:\n",
        "        return f\"{n} is a Prime\"\n",
        "print(checkops(230))"
      ],
      "metadata": {
        "colab": {
          "base_uri": "https://localhost:8080/"
        },
        "id": "JPZ2paS36X33",
        "outputId": "bcaf34f7-1af9-42dc-d0f2-4d977abd4e9f"
      },
      "execution_count": null,
      "outputs": [
        {
          "output_type": "stream",
          "name": "stdout",
          "text": [
            "230 is not from 1 to 200\n"
          ]
        }
      ]
    },
    {
      "cell_type": "markdown",
      "source": [
        " Q5. Create an iterator class in Python that generates the Fibonacci sequence up to a specified number of\n",
        "terms"
      ],
      "metadata": {
        "id": "3JqHTxxAio1m"
      }
    },
    {
      "cell_type": "code",
      "source": [
        "n = int(input(\"Enter the number of Febonaci series you want to generate\"))\n",
        "l1 =[]\n",
        "for i in range(n+1):\n",
        "  fib = lambda x: x if x<=1 else fib(x-1)+fib(x-2)\n",
        "  l1.append(fib(i))\n",
        "print(l1)"
      ],
      "metadata": {
        "id": "yQhzQ9au6Xt0",
        "colab": {
          "base_uri": "https://localhost:8080/"
        },
        "outputId": "5a338325-1380-42c4-82f4-f6e884f33495"
      },
      "execution_count": null,
      "outputs": [
        {
          "output_type": "stream",
          "name": "stdout",
          "text": [
            "Enter the number of Febonaci series you want to generate10\n",
            "[0, 1, 1, 2, 3, 5, 8, 13, 21, 34, 55]\n"
          ]
        }
      ]
    },
    {
      "cell_type": "markdown",
      "source": [
        " Q6. Write a generator function in Python that yields the powers of 2 up to a given exponent."
      ],
      "metadata": {
        "id": "oRF-Ryp6jULm"
      }
    },
    {
      "cell_type": "code",
      "metadata": {
        "colab": {
          "base_uri": "https://localhost:8080/"
        },
        "id": "221e2315",
        "outputId": "c6f85b36-488b-431f-cdba-752169f58a45"
      },
      "source": [
        "def powers_of_two(exponent):\n",
        "  for i in range(exponent + 1):\n",
        "    yield 2**i\n",
        "\n",
        "for power in powers_of_two(5):\n",
        "  print(power)"
      ],
      "execution_count": null,
      "outputs": [
        {
          "output_type": "stream",
          "name": "stdout",
          "text": [
            "1\n",
            "2\n",
            "4\n",
            "8\n",
            "16\n",
            "32\n"
          ]
        }
      ]
    },
    {
      "cell_type": "markdown",
      "source": [
        "Q7. Implement a generator function that reads a file line by line and yields each line as a string."
      ],
      "metadata": {
        "id": "2_-IwBocjd09"
      }
    },
    {
      "cell_type": "code",
      "metadata": {
        "colab": {
          "base_uri": "https://localhost:8080/"
        },
        "id": "da2fd810",
        "outputId": "3830d9ca-7f7d-46bf-99ec-e5f81c005eea"
      },
      "source": [
        "def read_file_line_by_line(filename):\n",
        "  try:\n",
        "    with open(filename, 'r') as f:\n",
        "      for line in f:\n",
        "        yield line.strip()\n",
        "  except FileNotFoundError:\n",
        "    print(f\"Error: File '{filename}' not found.\")\n",
        "  except Exception as e:\n",
        "    print(f\"An error occurred: {e}\")\n",
        "\n",
        "with open('my_example_file.txt', 'w') as f:\n",
        "    f.write(\"This is the first line.\\n\")\n",
        "    f.write(\"This is the second line.\\n\")\n",
        "    f.write(\"And the third line.\")\n",
        "\n",
        "# Now, use the generator function to read the file\n",
        "print(\"Reading 'file.txt':\")\n",
        "for line in read_file_line_by_line('file.txt'):\n",
        "  print(line)\n",
        "\n",
        "# Example with a non-existent file\n",
        "print(\"\\nAttempting to read a non-existent file:\")\n",
        "for line in read_file_line_by_line('non_existent_file.txt'):\n",
        "  print(line)"
      ],
      "execution_count": 30,
      "outputs": [
        {
          "output_type": "stream",
          "name": "stdout",
          "text": [
            "Reading 'file.txt':\n",
            "My name is Shubham Kumar I am 20 years Old currently\n",
            "pursuing BBA at GLA University, Mathura. Recently this\n",
            "summer I got an Opportunity to put my learning at work\n",
            "on the internship at Unified Mentors where I worked on\n",
            "Secondary Data on the drug side effects.\n",
            "\n",
            "Attempting to read a non-existent file:\n",
            "Error: File 'non_existent_file.txt' not found.\n"
          ]
        }
      ]
    },
    {
      "cell_type": "markdown",
      "source": [
        "Q8. Use a lambda function in Python to sort a list of tuples based on the second element of each tuple."
      ],
      "metadata": {
        "id": "sFSNzIoanFah"
      }
    },
    {
      "cell_type": "code",
      "metadata": {
        "colab": {
          "base_uri": "https://localhost:8080/"
        },
        "id": "464f684d",
        "outputId": "50f78317-58f6-4f16-993f-bfb509b926fa"
      },
      "source": [
        "# Sample list of tuples\n",
        "list_of_tuples = [(1, 'apple'), (3, 'banana'), (2, 'cherry'), (4, 'date')]\n",
        "\n",
        "# Sort the list of tuples using a lambda function based on the second element\n",
        "sorted_list = sorted(list_of_tuples, key=lambda item: item[1])\n",
        "\n",
        "# Print the sorted list\n",
        "print(sorted_list)\n",
        "\n",
        "# Example with numerical second elements\n",
        "list_of_tuples_numeric = [(10, 5), (5, 20), (15, 10)]\n",
        "sorted_list_numeric = sorted(list_of_tuples_numeric, key=lambda item: item[1])\n",
        "print(sorted_list_numeric)"
      ],
      "execution_count": 31,
      "outputs": [
        {
          "output_type": "stream",
          "name": "stdout",
          "text": [
            "[(1, 'apple'), (3, 'banana'), (2, 'cherry'), (4, 'date')]\n",
            "[(10, 5), (15, 10), (5, 20)]\n"
          ]
        }
      ]
    },
    {
      "cell_type": "markdown",
      "source": [
        "Q9. Write a Python program that uses `map()` to convert a list of temperatures from Celsius to Fahrenheit."
      ],
      "metadata": {
        "id": "YplLXgRwoUfA"
      }
    },
    {
      "cell_type": "code",
      "source": [
        "c1 =[32,45,12,76,-15]\n",
        "f1 = list(map(lambda x: (x*9/5)+32, c1))\n",
        "print(f1)"
      ],
      "metadata": {
        "colab": {
          "base_uri": "https://localhost:8080/"
        },
        "id": "VNxmxRKRoZ1X",
        "outputId": "059c4a48-a44b-4223-c5e3-aa96b36115cd"
      },
      "execution_count": 33,
      "outputs": [
        {
          "output_type": "stream",
          "name": "stdout",
          "text": [
            "[89.6, 113.0, 53.6, 168.8, 5.0]\n"
          ]
        }
      ]
    },
    {
      "cell_type": "markdown",
      "source": [
        "Q10. Create a Python program that uses `filter()` to remove all the vowels from a given string."
      ],
      "metadata": {
        "id": "EuS1dlwCpej-"
      }
    },
    {
      "cell_type": "code",
      "metadata": {
        "colab": {
          "base_uri": "https://localhost:8080/"
        },
        "id": "08172455",
        "outputId": "029acdc6-f77c-4823-92d2-01d400160404"
      },
      "source": [
        "def remove_vowels(text):\n",
        "  vowels = \"aeiouAEIOU\"\n",
        "  return \"\".join(filter(lambda char: char not in vowels, text))\n",
        "\n",
        "my_string = input(\"Enter The String that you want remove Vowels\")\n",
        "string_without_vowels = remove_vowels(my_string)\n",
        "print(f\"Original string: {my_string}\")\n",
        "print(f\"String without vowels: {string_without_vowels}\")\n"
      ],
      "execution_count": 36,
      "outputs": [
        {
          "output_type": "stream",
          "name": "stdout",
          "text": [
            "Enter The String that you want remove VowelsI am Shubham Kumar\n",
            "Original string: I am Shubham Kumar\n",
            "String without vowels:  m Shbhm Kmr\n"
          ]
        }
      ]
    },
    {
      "cell_type": "markdown",
      "source": [
        " Q11) Imagine an accounting routine used in a book shop. It works on a list with sublists, which look like this:\n",
        "\n",
        " | Order Number | Book title and Author | Quantity | Price Per Item |\n",
        " |--------------|-----------------|------|---|\n",
        " | 34587| Learning Python, Mark Lutz | 4 | 40.95 |\n",
        " | 98762| Programing Python, Mark Lutz | 5 | 56.80 |\n",
        " | 77226| Head First Python, Paul Barry | 3 | 32.95 |\n",
        " | 88112| Einfuhrung in Python3, Bernd Klein | 3 | 24.99 |\n",
        "\n",
        "\n",
        "\n",
        " Write a Python program, which returns a list with 2-tuples. Each tuple consists of the order number and the\n",
        "product of the price per item and the quantity. The product should be increased by 10,- € if the value of the\n",
        "order is smaller than 100,00 €.\n",
        "\n",
        " Write a Python program using lambda and map"
      ],
      "metadata": {
        "id": "0DLl22qZrCL9"
      }
    },
    {
      "cell_type": "code",
      "source": [
        "orders = [\n",
        "    [34587, 'Learning Python, Mark Lutz', 4, 40.95],\n",
        "    [98762, 'Programing Python, Mark Lutz', 5, 56.80],\n",
        "    [77226, 'Head First Python, Paul Barry', 3, 32.95],\n",
        "    [88112, 'Einfuhrung in Python3, Bernd Klein', 3, 24.99]\n",
        "]\n",
        "\n",
        "# Function to calculate total price and apply surcharge\n",
        "calculate_price = lambda order: (order[0], order[2] * order[3] + (10 if order[2] * order[3] < 100 else 0))\n",
        "\n",
        "# Use map to apply the lambda function to each order\n",
        "processed_orders = list(map(calculate_price, orders))\n",
        "\n",
        "# Print the result\n",
        "print(processed_orders)"
      ],
      "metadata": {
        "colab": {
          "base_uri": "https://localhost:8080/"
        },
        "id": "GLkngLcbuCja",
        "outputId": "06121f05-bfc5-4ce6-9ede-d237f2844a53"
      },
      "execution_count": 37,
      "outputs": [
        {
          "output_type": "stream",
          "name": "stdout",
          "text": [
            "[(34587, 163.8), (98762, 284.0), (77226, 108.85000000000001), (88112, 84.97)]\n"
          ]
        }
      ]
    }
  ]
}
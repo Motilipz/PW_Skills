{
  "nbformat": 4,
  "nbformat_minor": 0,
  "metadata": {
    "colab": {
      "provenance": []
    },
    "kernelspec": {
      "name": "python3",
      "display_name": "Python 3"
    },
    "language_info": {
      "name": "python"
    }
  },
  "cells": [
    {
      "cell_type": "markdown",
      "source": [
        "## **Pratical Questions**\n"
      ],
      "metadata": {
        "id": "DuSiiXLuiPTb"
      }
    },
    {
      "cell_type": "markdown",
      "source": [
        "### Q1. Write a Python program to print \"Hello, World!\""
      ],
      "metadata": {
        "id": "TEIC5Gr4wZ8a"
      }
    },
    {
      "cell_type": "code",
      "execution_count": null,
      "metadata": {
        "id": "TVDJtvWZiDk1",
        "colab": {
          "base_uri": "https://localhost:8080/"
        },
        "outputId": "75fcd707-c6c2-410a-be1f-3cbff4cab3a9"
      },
      "outputs": [
        {
          "output_type": "stream",
          "name": "stdout",
          "text": [
            "Hello, World!\n"
          ]
        }
      ],
      "source": [
        "print(\"Hello, World!\")"
      ]
    },
    {
      "cell_type": "markdown",
      "source": [
        "### Q2. Writte a Python Program That Displays Your name and age"
      ],
      "metadata": {
        "id": "vVObjv8fwgoC"
      }
    },
    {
      "cell_type": "code",
      "source": [
        "name = \"Shubham Kumar\"\n",
        "age = 20\n",
        "print(f'My name is {name} and I am {age} Years old')"
      ],
      "metadata": {
        "colab": {
          "base_uri": "https://localhost:8080/"
        },
        "id": "7Ulp4dPOixPB",
        "outputId": "4b306324-affb-44c7-d084-297976ccfd67"
      },
      "execution_count": null,
      "outputs": [
        {
          "output_type": "stream",
          "name": "stdout",
          "text": [
            "My name is Shubham Kumar and I am 20 Years old\n"
          ]
        }
      ]
    },
    {
      "cell_type": "markdown",
      "source": [
        "### Q3 Write a code to print all pre-defined keywords in Python using the keyword library."
      ],
      "metadata": {
        "id": "5jETKjMEwjhJ"
      }
    },
    {
      "cell_type": "code",
      "source": [
        "import keyword\n",
        "print(keyword.kwlist)"
      ],
      "metadata": {
        "colab": {
          "base_uri": "https://localhost:8080/"
        },
        "id": "9h-NSOWKj0SE",
        "outputId": "a6130e8b-870c-4d3c-b5c0-aea58981db06"
      },
      "execution_count": null,
      "outputs": [
        {
          "output_type": "stream",
          "name": "stdout",
          "text": [
            "['False', 'None', 'True', 'and', 'as', 'assert', 'async', 'await', 'break', 'class', 'continue', 'def', 'del', 'elif', 'else', 'except', 'finally', 'for', 'from', 'global', 'if', 'import', 'in', 'is', 'lambda', 'nonlocal', 'not', 'or', 'pass', 'raise', 'return', 'try', 'while', 'with', 'yield']\n"
          ]
        }
      ]
    },
    {
      "cell_type": "markdown",
      "source": [
        "### Q4. Write a program that checks if a given word is a python keyword."
      ],
      "metadata": {
        "id": "byzJ-JSVw0Yy"
      }
    },
    {
      "cell_type": "code",
      "source": [
        "word = input(\"Enter the word that you want to check: \")\n",
        "if word in keyword.kwlist:\n",
        "  print(f'{word} is a Python Keyword')\n",
        "else:\n",
        "  print(f'{word} is not a Python Keyword')"
      ],
      "metadata": {
        "colab": {
          "base_uri": "https://localhost:8080/"
        },
        "id": "xu_C9MLZkOmN",
        "outputId": "272da71f-b404-426a-d565-620eb9cc48e7"
      },
      "execution_count": null,
      "outputs": [
        {
          "output_type": "stream",
          "name": "stdout",
          "text": [
            "Enter the word that you want to check: if\n",
            "if is a Python Keyword\n"
          ]
        }
      ]
    },
    {
      "cell_type": "markdown",
      "source": [
        "### Q5. Create a list and tuple in Python, and demonstrate how attempting to change an element works differently for each?"
      ],
      "metadata": {
        "id": "-9b9ewwu0nWm"
      }
    },
    {
      "cell_type": "code",
      "source": [
        "l1 = [1,2,3,4,5]\n",
        "l1[3] = 5 # Attempting to change a list l1 that i have created\n",
        "print(l1) # 4 in the list is replaced by 5 as List are mutable\n",
        "t1 = (1,2,3,4,5)\n",
        "print(t1)\n",
        "try:   # Here I am using the Exception handeling because Changing any element in a tupple with throw an error\n",
        "  t1[3] = 5\n",
        "except :\n",
        "  print(\"Tuple are immutable\")"
      ],
      "metadata": {
        "id": "rw4k9F4Tl27g",
        "colab": {
          "base_uri": "https://localhost:8080/"
        },
        "outputId": "f01beb32-80a5-43d8-8dc7-8182ed0eba64"
      },
      "execution_count": null,
      "outputs": [
        {
          "output_type": "stream",
          "name": "stdout",
          "text": [
            "[1, 2, 3, 5, 5]\n",
            "(1, 2, 3, 4, 5)\n",
            "Tuple are immutable\n"
          ]
        }
      ]
    },
    {
      "cell_type": "markdown",
      "source": [
        "### Q6. Write a function to demonstrate the behaviour of mutable and immutable arguments."
      ],
      "metadata": {
        "id": "1KbP4gI21WJM"
      }
    },
    {
      "cell_type": "code",
      "source": [
        "\n",
        "def func(l2, t2):\n",
        "  l2[3] = 5\n",
        "  print(f\"Inside the function, the list is: {l2}\")\n",
        "  try:\n",
        "    t2[3] = 5\n",
        "  except :\n",
        "    print(\"Tuple can't be modified\")\n",
        "\n",
        "my_list = [1, 2, 3, 4, 5]\n",
        "my_tuple = (1, 2, 3, 4, 5)\n",
        "\n",
        "print(f\"Before calling the function, the list is: {my_list}\")\n",
        "print(f\"Before calling the function, the tuple is: {my_tuple}\")\n",
        "\n",
        "func(my_list, my_tuple)\n",
        "print(f\"After calling the function, the list is: {my_list}\")\n",
        "print(f\"After calling the function, the tuple is: {my_tuple}\")"
      ],
      "metadata": {
        "colab": {
          "base_uri": "https://localhost:8080/"
        },
        "id": "CKo95SU9r0rS",
        "outputId": "87a50185-b891-4960-d33b-e5b0850337db"
      },
      "execution_count": null,
      "outputs": [
        {
          "output_type": "stream",
          "name": "stdout",
          "text": [
            "Before calling the function, the list is: [1, 2, 3, 4, 5]\n",
            "Before calling the function, the tuple is: (1, 2, 3, 4, 5)\n",
            "Inside the function, the list is: [1, 2, 3, 5, 5]\n",
            "Tuple can't be modified\n",
            "After calling the function, the list is: [1, 2, 3, 5, 5]\n",
            "After calling the function, the tuple is: (1, 2, 3, 4, 5)\n"
          ]
        }
      ]
    },
    {
      "cell_type": "markdown",
      "source": [
        "### Q7. Write a program that performs basic arithmetic operations on two user-input numbers."
      ],
      "metadata": {
        "id": "OixSlp3S1bak"
      }
    },
    {
      "cell_type": "code",
      "source": [
        "num1 = int(input(\"Enter your first number\"))\n",
        "num2 = int(input('Enter your second number'))\n",
        "# Here are the arithmetic operation performed on your numbers\n",
        "print(f'{num1} + {num2} is {num1+num2}')\n",
        "print(f'{num1} - {num2} is {num1-num2}')\n",
        "print(f'{num1} x {num2} is {num1*num2}')\n",
        "print(f'{num1} / {num2} is {num1/num2}')\n",
        "print(f'{num1} // {num2} is {num1//num2}')\n",
        "print(f'{num1} % {num2} is {num1%num2}')\n",
        "print(f'{num1} ** {num2} is {num1**num2}')\n"
      ],
      "metadata": {
        "colab": {
          "base_uri": "https://localhost:8080/"
        },
        "id": "K2FPS9nfsik_",
        "outputId": "4afe71af-44cd-417e-a3cf-47ad41f982f7"
      },
      "execution_count": null,
      "outputs": [
        {
          "output_type": "stream",
          "name": "stdout",
          "text": [
            "Enter your first number4\n",
            "Enter your second number5\n",
            "4 + 5 is 9\n",
            "4 - 5 is -1\n",
            "4 x 5 is 20\n",
            "4 / 5 is 0.8\n",
            "4 // 5 is 0\n",
            "4 % 5 is 4\n",
            "4 ** 5 is 1024\n"
          ]
        }
      ]
    },
    {
      "cell_type": "markdown",
      "source": [
        "### Q8. Write a program to demonstrate the use of logical operatoors."
      ],
      "metadata": {
        "id": "wcYiNm0X1lh0"
      }
    },
    {
      "cell_type": "code",
      "source": [
        "a = True\n",
        "b = False\n",
        "# Logical AND\n",
        "print(\"a and b:\", a and b)\n",
        "# Logical OR\n",
        "print(\"a or b:\", a or b)\n",
        "# Logical NOT\n",
        "print(\"not a:\", not a)\n",
        "print(\"not b:\", not b)\n"
      ],
      "metadata": {
        "colab": {
          "base_uri": "https://localhost:8080/"
        },
        "id": "FKAJ9YQfKEOI",
        "outputId": "56f34fba-b831-4c40-920c-95371d80ebbb"
      },
      "execution_count": 87,
      "outputs": [
        {
          "output_type": "stream",
          "name": "stdout",
          "text": [
            "a and b: False\n",
            "a or b: True\n",
            "not a: False\n",
            "not b: True\n"
          ]
        }
      ]
    },
    {
      "cell_type": "markdown",
      "source": [
        "### Q9. Write a Python Program to Convert User input string to integer, float, and boolean types."
      ],
      "metadata": {
        "id": "1rs4MKVV1rrr"
      }
    },
    {
      "cell_type": "code",
      "source": [
        "a = int(input(\"Enter an Integer \"))\n",
        "b = float(input(\"Enter a Float Number \"))\n",
        "c = bool(int(input(\"Enter 0 for false and 1 for True \")))\n",
        "print(f'your integer is {a}')\n",
        "print(f'your float is {b}')\n",
        "print(f'your boolean is {c}')"
      ],
      "metadata": {
        "colab": {
          "base_uri": "https://localhost:8080/"
        },
        "id": "sfnalvs6bOeD",
        "outputId": "d2a28d98-1382-47b1-90c2-e3629a5077b2"
      },
      "execution_count": null,
      "outputs": [
        {
          "output_type": "stream",
          "name": "stdout",
          "text": [
            "Enter an Integer 99\n",
            "Enter a Float Number 9\n",
            "Enter 0 for false and 1 for True 0\n",
            "your integer is 99\n",
            "your float is 9.0\n",
            "your boolean is False\n"
          ]
        }
      ]
    },
    {
      "cell_type": "markdown",
      "source": [
        "### Q10. Write a code to demonstrate type casting with list elements"
      ],
      "metadata": {
        "id": "ESDqyhJQ1x1z"
      }
    },
    {
      "cell_type": "code",
      "source": [
        "string_list = ['1', '2', '3', '4', '5']\n",
        "print(f\"Original list of strings: {string_list}\")\n",
        "integer_list = [int(x) for x in string_list]\n",
        "print(f\"List after casting to integers: {integer_list}\")\n",
        "sum_of_elements = sum(integer_list)\n",
        "print(f\"Sum of the elements: {sum_of_elements}\")"
      ],
      "metadata": {
        "colab": {
          "base_uri": "https://localhost:8080/"
        },
        "id": "OxmVVkaBdqYt",
        "outputId": "5de78698-a1f5-440f-c77d-234d4637631b"
      },
      "execution_count": null,
      "outputs": [
        {
          "output_type": "stream",
          "name": "stdout",
          "text": [
            "Original list of strings: ['1', '2', '3', '4', '5']\n",
            "List after casting to integers: [1, 2, 3, 4, 5]\n",
            "Sum of the elements: 15\n"
          ]
        }
      ]
    },
    {
      "cell_type": "markdown",
      "source": [
        "### Q11. Write a program that checks if a number positive negative or Zero"
      ],
      "metadata": {
        "id": "m0woA6PB12Ob"
      }
    },
    {
      "cell_type": "code",
      "source": [
        "a = float(input(\"enter the number that you want to check: \"))\n",
        "if a>0:\n",
        "  print(f'{a} is a positive number')\n",
        "elif a== 0:\n",
        "  print(f'{a} is Zero')\n",
        "else:\n",
        "  print(f'{a} is a negative number')"
      ],
      "metadata": {
        "colab": {
          "base_uri": "https://localhost:8080/"
        },
        "id": "GLj9UweveQ9L",
        "outputId": "6db4b28b-01e4-4003-a5ec-2b76aa370c77"
      },
      "execution_count": null,
      "outputs": [
        {
          "output_type": "stream",
          "name": "stdout",
          "text": [
            "enter the number that you want to check: -98\n",
            "-98.0 is a negative number\n"
          ]
        }
      ]
    },
    {
      "cell_type": "markdown",
      "source": [
        "### Q12. Write a loop to print a number from 1 to 10"
      ],
      "metadata": {
        "id": "mb4tpslw17xj"
      }
    },
    {
      "cell_type": "code",
      "source": [
        "for i in range(1,11) :\n",
        "  print(i)"
      ],
      "metadata": {
        "colab": {
          "base_uri": "https://localhost:8080/"
        },
        "id": "PilziCp1eSkS",
        "outputId": "73968b61-4e26-4b6f-bf5e-da9d10b34a19"
      },
      "execution_count": null,
      "outputs": [
        {
          "output_type": "stream",
          "name": "stdout",
          "text": [
            "1\n",
            "2\n",
            "3\n",
            "4\n",
            "5\n",
            "6\n",
            "7\n",
            "8\n",
            "9\n",
            "10\n"
          ]
        }
      ]
    },
    {
      "cell_type": "markdown",
      "source": [
        "### Q13. Write a python program to find sum of all even numbers between 1 to 50"
      ],
      "metadata": {
        "id": "93hsBQxZ1_bT"
      }
    },
    {
      "cell_type": "code",
      "source": [
        "a = 0\n",
        "for i in range(2,50,2):\n",
        "  a+=i\n",
        "  # print(i)\n",
        "print(f'sum of all even number between 1 to 50 is: {a}')"
      ],
      "metadata": {
        "colab": {
          "base_uri": "https://localhost:8080/"
        },
        "id": "olTztkr5geq0",
        "outputId": "db7f2bd9-5186-4bce-8147-3d96e5785d16"
      },
      "execution_count": null,
      "outputs": [
        {
          "output_type": "stream",
          "name": "stdout",
          "text": [
            "sum of all even number between 1 to 50 is: 600\n"
          ]
        }
      ]
    },
    {
      "cell_type": "markdown",
      "source": [
        "### Q14. Write a program to reverse a string using a while loop?"
      ],
      "metadata": {
        "id": "7q8f9e2T2pxq"
      }
    },
    {
      "cell_type": "code",
      "metadata": {
        "colab": {
          "base_uri": "https://localhost:8080/"
        },
        "id": "5eebf593",
        "outputId": "aaa73a92-4070-4a6d-ee0f-fda2ae171626"
      },
      "source": [
        "x = input(\"Enter the string that you want to reverse: \")\n",
        "reversed_x = \"\"\n",
        "i = len(x) - 1\n",
        "while i >= 0:\n",
        "  reversed_x = reversed_x + x[i]\n",
        "  i -= 1\n",
        "print(reversed_x)"
      ],
      "execution_count": null,
      "outputs": [
        {
          "output_type": "stream",
          "name": "stdout",
          "text": [
            "Enter the string that you want to reverse: shubham\n",
            "mahbuhs\n"
          ]
        }
      ]
    },
    {
      "cell_type": "markdown",
      "source": [
        "### Q15. Write a python program to calculate the factorial of a number provided by the user using a while loop"
      ],
      "metadata": {
        "id": "jg0ygYmk20ko"
      }
    },
    {
      "cell_type": "code",
      "source": [
        "def fact(a):\n",
        "  if a < 1:\n",
        "    return 1\n",
        "  elif a<0:\n",
        "    return \"Invalid input\"\n",
        "  else:\n",
        "    return a*fact(a-1)\n",
        "x = float(input(\"Enter a number to konw it factorial: \"))\n",
        "\n",
        "print(f\"factorial of {x} is {fact(x)}\")\n"
      ],
      "metadata": {
        "colab": {
          "base_uri": "https://localhost:8080/"
        },
        "id": "PDB9cxFplwUW",
        "outputId": "4edb40aa-9ebd-42ee-c5f1-486e796df423"
      },
      "execution_count": null,
      "outputs": [
        {
          "output_type": "stream",
          "name": "stdout",
          "text": [
            "Enter a number to konw it factorial: 6\n",
            "factorial of 6.0 is 720.0\n"
          ]
        }
      ]
    }
  ]
}
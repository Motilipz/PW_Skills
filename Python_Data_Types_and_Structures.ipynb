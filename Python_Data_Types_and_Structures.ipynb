{
  "nbformat": 4,
  "nbformat_minor": 0,
  "metadata": {
    "colab": {
      "provenance": []
    },
    "kernelspec": {
      "name": "python3",
      "display_name": "Python 3"
    },
    "language_info": {
      "name": "python"
    }
  },
  "cells": [
    {
      "cell_type": "markdown",
      "source": [
        "## Practical Questions"
      ],
      "metadata": {
        "id": "iUDeYrOrol-Z"
      }
    },
    {
      "cell_type": "markdown",
      "source": [
        "### Q1. Write a code to create a string with your name and print it."
      ],
      "metadata": {
        "id": "HpzNf43ok6GV"
      }
    },
    {
      "cell_type": "code",
      "execution_count": null,
      "metadata": {
        "colab": {
          "base_uri": "https://localhost:8080/"
        },
        "id": "vNsYPteKU3VT",
        "outputId": "852dcf29-aff4-493f-957b-c03bea40536c"
      },
      "outputs": [
        {
          "output_type": "stream",
          "name": "stdout",
          "text": [
            "Shubham Kumar\n"
          ]
        }
      ],
      "source": [
        "name = \"Shubham Kumar\"\n",
        "print(name)"
      ]
    },
    {
      "cell_type": "markdown",
      "source": [
        "### Q2. Write a code to find the length of the string \"Hello World\"."
      ],
      "metadata": {
        "id": "pYBvibXMlOrz"
      }
    },
    {
      "cell_type": "code",
      "source": [
        "print(len(\"Hello World\"))"
      ],
      "metadata": {
        "colab": {
          "base_uri": "https://localhost:8080/"
        },
        "id": "XKd5TlgHlU4S",
        "outputId": "75541dff-80af-4d3c-b262-46546803e2d9"
      },
      "execution_count": null,
      "outputs": [
        {
          "output_type": "stream",
          "name": "stdout",
          "text": [
            "11\n"
          ]
        }
      ]
    },
    {
      "cell_type": "markdown",
      "source": [
        "### Q3. Write a code to slice the first 3 characters from the string \"Python Programming\"."
      ],
      "metadata": {
        "id": "-rAdSuhSljb6"
      }
    },
    {
      "cell_type": "code",
      "source": [
        "word = \"Python Programming\"\n",
        "print(word[0:3])"
      ],
      "metadata": {
        "colab": {
          "base_uri": "https://localhost:8080/"
        },
        "id": "gXgn0TzOlpWp",
        "outputId": "02d2351e-b7b8-47cd-a807-5489b45dfe18"
      },
      "execution_count": null,
      "outputs": [
        {
          "output_type": "stream",
          "name": "stdout",
          "text": [
            "Pyt\n"
          ]
        }
      ]
    },
    {
      "cell_type": "markdown",
      "source": [
        "### Q4. Write a code to convert the string \"hello\" to uppercase."
      ],
      "metadata": {
        "id": "qFH9uldplzoh"
      }
    },
    {
      "cell_type": "code",
      "source": [
        "string = \"hello\"\n",
        "print(string.upper())"
      ],
      "metadata": {
        "colab": {
          "base_uri": "https://localhost:8080/"
        },
        "id": "AC-wBgcHl-9h",
        "outputId": "6f3d5941-7895-45c1-bbe5-df66a9b1c19d"
      },
      "execution_count": 2,
      "outputs": [
        {
          "output_type": "stream",
          "name": "stdout",
          "text": [
            "HELLO\n"
          ]
        }
      ]
    },
    {
      "cell_type": "markdown",
      "source": [
        "### Q5. Write a code to replace the word \"apple\" with \"orange\" in the string \"I like apple\"."
      ],
      "metadata": {
        "id": "ZBgYxKDdmIGC"
      }
    },
    {
      "cell_type": "code",
      "source": [
        "x = \"I like apple\"\n",
        "y = x.replace(\"apple\",\"orange\")\n",
        "print(y)"
      ],
      "metadata": {
        "colab": {
          "base_uri": "https://localhost:8080/"
        },
        "id": "azHUbMelmOmp",
        "outputId": "6bd8a3c4-d9e2-4d85-8173-25f074e1ada6"
      },
      "execution_count": null,
      "outputs": [
        {
          "output_type": "stream",
          "name": "stdout",
          "text": [
            "I like orange\n"
          ]
        }
      ]
    },
    {
      "cell_type": "markdown",
      "metadata": {
        "id": "a9fe5455"
      },
      "source": [
        "### Q6. Write a code to create a list with numbers 1 to 5 and print it."
      ]
    },
    {
      "cell_type": "code",
      "metadata": {
        "colab": {
          "base_uri": "https://localhost:8080/"
        },
        "id": "f5a13870",
        "outputId": "8af833bc-2dd6-45c9-a783-b2c223327cad"
      },
      "source": [
        "list6 = [1, 2, 3, 4, 5]\n",
        "print(list6)"
      ],
      "execution_count": 1,
      "outputs": [
        {
          "output_type": "stream",
          "name": "stdout",
          "text": [
            "[1, 2, 3, 4, 5]\n"
          ]
        }
      ]
    },
    {
      "cell_type": "markdown",
      "metadata": {
        "id": "3258895f"
      },
      "source": [
        "### Q7. Write a code to append the number 10 to the list [1, 2, 3, 4]."
      ]
    },
    {
      "cell_type": "code",
      "metadata": {
        "colab": {
          "base_uri": "https://localhost:8080/"
        },
        "id": "6e99e73a",
        "outputId": "1b0580d9-960a-4be0-eb9e-c65465b67969"
      },
      "source": [
        "list7 = [1, 2, 3, 4]\n",
        "list7.append(10)\n",
        "print(list7)"
      ],
      "execution_count": null,
      "outputs": [
        {
          "output_type": "stream",
          "name": "stdout",
          "text": [
            "[1, 2, 3, 4, 10]\n"
          ]
        }
      ]
    },
    {
      "cell_type": "markdown",
      "metadata": {
        "id": "c14654e1"
      },
      "source": [
        "### Q8. Write a code to remove the number 3 from the list [1, 2, 3, 4, 5]."
      ]
    },
    {
      "cell_type": "code",
      "metadata": {
        "colab": {
          "base_uri": "https://localhost:8080/"
        },
        "id": "56800124",
        "outputId": "a886f166-a883-4ccf-8e15-fdcdc4fa2f54"
      },
      "source": [
        "list8 = [1, 2, 3, 4, 5]\n",
        "list8.remove(3)\n",
        "print(list8)"
      ],
      "execution_count": null,
      "outputs": [
        {
          "output_type": "stream",
          "name": "stdout",
          "text": [
            "[1, 2, 4, 5]\n"
          ]
        }
      ]
    },
    {
      "cell_type": "markdown",
      "metadata": {
        "id": "182248b4"
      },
      "source": [
        "### Q9. Write a code to access the second element in the list ['a', 'b', 'c', 'd']."
      ]
    },
    {
      "cell_type": "code",
      "metadata": {
        "colab": {
          "base_uri": "https://localhost:8080/"
        },
        "id": "de0a982b",
        "outputId": "40c9d621-e1ac-4036-e9a5-a4eac1db8a05"
      },
      "source": [
        "list9 = ['a', 'b', 'c', 'd']\n",
        "print(list9[1])"
      ],
      "execution_count": null,
      "outputs": [
        {
          "output_type": "stream",
          "name": "stdout",
          "text": [
            "b\n"
          ]
        }
      ]
    },
    {
      "cell_type": "markdown",
      "metadata": {
        "id": "a793d227"
      },
      "source": [
        "### Q10. Write a code to reverse the list [10, 20, 30, 40, 50].\n",
        "\n",
        "---\n",
        "\n"
      ]
    },
    {
      "cell_type": "code",
      "metadata": {
        "colab": {
          "base_uri": "https://localhost:8080/"
        },
        "id": "fb386e86",
        "outputId": "c834fcff-f0ed-494c-ee24-dcf3724d68d7"
      },
      "source": [
        "list10 = [10, 20, 30, 40, 50]\n",
        "list10.reverse()\n",
        "print(list10)"
      ],
      "execution_count": null,
      "outputs": [
        {
          "output_type": "stream",
          "name": "stdout",
          "text": [
            "[50, 40, 30, 20, 10]\n"
          ]
        }
      ]
    },
    {
      "cell_type": "markdown",
      "metadata": {
        "id": "d234f1f3"
      },
      "source": [
        "### Q11. Write a code to create a tuple with the elements 100, 200, 300 and print it."
      ]
    },
    {
      "cell_type": "code",
      "metadata": {
        "colab": {
          "base_uri": "https://localhost:8080/"
        },
        "id": "5ecfdc87",
        "outputId": "c5e4b05a-5f50-4a60-d629-66e55dd05693"
      },
      "source": [
        "tuple11 = (100, 200, 300)\n",
        "print(tuple11)"
      ],
      "execution_count": null,
      "outputs": [
        {
          "output_type": "stream",
          "name": "stdout",
          "text": [
            "(100, 200, 300)\n"
          ]
        }
      ]
    },
    {
      "cell_type": "markdown",
      "metadata": {
        "id": "d4f6193e"
      },
      "source": [
        "### Q12. Write a code to access the second-to-last element of the tuple ('red', 'green', 'blue', 'yellow')."
      ]
    },
    {
      "cell_type": "code",
      "metadata": {
        "colab": {
          "base_uri": "https://localhost:8080/"
        },
        "id": "ab0a8ef9",
        "outputId": "09fe4a98-7e01-48f5-84de-4a372032fb66"
      },
      "source": [
        "tuple12 = ('red', 'green', 'blue', 'yellow')\n",
        "print(tuple12[-2])"
      ],
      "execution_count": null,
      "outputs": [
        {
          "output_type": "stream",
          "name": "stdout",
          "text": [
            "blue\n"
          ]
        }
      ]
    },
    {
      "cell_type": "markdown",
      "metadata": {
        "id": "fed0b9c5"
      },
      "source": [
        "### Q13. Write a code to find the minimum number in the tuple (10, 20, 5, 15)."
      ]
    },
    {
      "cell_type": "code",
      "metadata": {
        "colab": {
          "base_uri": "https://localhost:8080/"
        },
        "id": "086eac5a",
        "outputId": "a030f466-2909-4a7c-ada6-91881f37a32b"
      },
      "source": [
        "tuple13 = (10, 20, 5, 15)\n",
        "print(min(tuple13))"
      ],
      "execution_count": null,
      "outputs": [
        {
          "output_type": "stream",
          "name": "stdout",
          "text": [
            "5\n"
          ]
        }
      ]
    },
    {
      "cell_type": "markdown",
      "metadata": {
        "id": "f136977d"
      },
      "source": [
        "### Q14. Write a code to find the index of the element \"cat\" in the tuple ('dog', 'cat', 'rabbit')."
      ]
    },
    {
      "cell_type": "code",
      "metadata": {
        "colab": {
          "base_uri": "https://localhost:8080/"
        },
        "id": "876b5877",
        "outputId": "193d122f-6423-4ee4-adf0-a424b1481efe"
      },
      "source": [
        "tuple14 = ('dog', 'cat', 'rabbit')\n",
        "print(tuple14.index('cat'))"
      ],
      "execution_count": null,
      "outputs": [
        {
          "output_type": "stream",
          "name": "stdout",
          "text": [
            "1\n"
          ]
        }
      ]
    },
    {
      "cell_type": "markdown",
      "metadata": {
        "id": "bbf1cccb"
      },
      "source": [
        "### Q15. Write a code to create a tuple containing three different fruits and check if \"kiwi\" is in it."
      ]
    },
    {
      "cell_type": "code",
      "metadata": {
        "colab": {
          "base_uri": "https://localhost:8080/"
        },
        "id": "e695b77d",
        "outputId": "c693ce64-a4ba-4ffd-a918-0058f5ca1b90"
      },
      "source": [
        "tuple15 = ('apple', 'banana', 'cherry')\n",
        "print(\"kiwi\" in tuple15)"
      ],
      "execution_count": null,
      "outputs": [
        {
          "output_type": "stream",
          "name": "stdout",
          "text": [
            "False\n"
          ]
        }
      ]
    },
    {
      "cell_type": "markdown",
      "metadata": {
        "id": "d85e31c5"
      },
      "source": [
        "### Q16. Write a code to create a set with the elements 'a', 'b', 'c' and print it."
      ]
    },
    {
      "cell_type": "code",
      "metadata": {
        "colab": {
          "base_uri": "https://localhost:8080/"
        },
        "id": "da6ffc5e",
        "outputId": "f334c61c-2588-4ac7-84e9-f2248cd947a8"
      },
      "source": [
        "set16 = {'a', 'b', 'c'}\n",
        "print(set16)"
      ],
      "execution_count": null,
      "outputs": [
        {
          "output_type": "stream",
          "name": "stdout",
          "text": [
            "{'a', 'c', 'b'}\n"
          ]
        }
      ]
    },
    {
      "cell_type": "markdown",
      "metadata": {
        "id": "edc936c7"
      },
      "source": [
        "### Q17. Write a code to clear all elements from the set {1, 2, 3, 4, 5}."
      ]
    },
    {
      "cell_type": "code",
      "metadata": {
        "colab": {
          "base_uri": "https://localhost:8080/"
        },
        "id": "b8673104",
        "outputId": "8221696b-c4a3-42e7-ca7d-1a3d1d6793f0"
      },
      "source": [
        "set17 = {1, 2, 3, 4, 5}\n",
        "set17.clear()\n",
        "print(set17)"
      ],
      "execution_count": null,
      "outputs": [
        {
          "output_type": "stream",
          "name": "stdout",
          "text": [
            "set()\n"
          ]
        }
      ]
    },
    {
      "cell_type": "markdown",
      "metadata": {
        "id": "451d69d2"
      },
      "source": [
        "### Q18. Write a code to remove the element 4 from the set {1, 2, 3, 4}."
      ]
    },
    {
      "cell_type": "code",
      "metadata": {
        "colab": {
          "base_uri": "https://localhost:8080/"
        },
        "id": "32472334",
        "outputId": "0fa0d4ec-1755-4a76-9276-afe5362c15a6"
      },
      "source": [
        "set18 = {1, 2, 3, 4}\n",
        "set18.remove(4)\n",
        "print(set18)"
      ],
      "execution_count": null,
      "outputs": [
        {
          "output_type": "stream",
          "name": "stdout",
          "text": [
            "{1, 2, 3}\n"
          ]
        }
      ]
    },
    {
      "cell_type": "markdown",
      "metadata": {
        "id": "5eb031ea"
      },
      "source": [
        "### Q19. Write a code to find the union of two sets {1, 2, 3} and {3, 4, 5}."
      ]
    },
    {
      "cell_type": "code",
      "metadata": {
        "colab": {
          "base_uri": "https://localhost:8080/"
        },
        "id": "41b8608c",
        "outputId": "cb882f3d-9e15-470e-c6a4-41927ddf5252"
      },
      "source": [
        "set19_a = {1, 2, 3}\n",
        "set19_b = {3, 4, 5}\n",
        "print(set19_a.union(set19_b))"
      ],
      "execution_count": null,
      "outputs": [
        {
          "output_type": "stream",
          "name": "stdout",
          "text": [
            "{1, 2, 3, 4, 5}\n"
          ]
        }
      ]
    },
    {
      "cell_type": "markdown",
      "metadata": {
        "id": "1d5ae125"
      },
      "source": [
        "### Q20. Write a code to find the intersection of two sets {1, 2, 3} and {2, 3, 4}."
      ]
    },
    {
      "cell_type": "code",
      "metadata": {
        "colab": {
          "base_uri": "https://localhost:8080/"
        },
        "id": "5b9f59b1",
        "outputId": "a1476de1-286c-4c96-bf8a-e40d865b1624"
      },
      "source": [
        "set20_a = {1, 2, 3}\n",
        "set20_b = {2, 3, 4}\n",
        "print(set20_a.intersection(set20_b))"
      ],
      "execution_count": null,
      "outputs": [
        {
          "output_type": "stream",
          "name": "stdout",
          "text": [
            "{2, 3}\n"
          ]
        }
      ]
    },
    {
      "cell_type": "markdown",
      "metadata": {
        "id": "deee4d9d"
      },
      "source": [
        "### Q21. Write a code to create a dictionary with the keys \"name\", \"age\", and \"city\", and print it."
      ]
    },
    {
      "cell_type": "code",
      "metadata": {
        "colab": {
          "base_uri": "https://localhost:8080/"
        },
        "id": "e817926d",
        "outputId": "10cad83e-7bc1-472f-959e-3359fb92c78c"
      },
      "source": [
        "dict21 = {\"name\": \"John\", \"age\": 25, \"city\": \"New York\"}\n",
        "print(dict21)"
      ],
      "execution_count": null,
      "outputs": [
        {
          "output_type": "stream",
          "name": "stdout",
          "text": [
            "{'name': 'John', 'age': 25, 'city': 'New York'}\n"
          ]
        }
      ]
    },
    {
      "cell_type": "markdown",
      "metadata": {
        "id": "03d303cf"
      },
      "source": [
        "### Q22. Write a code to add a new key-value pair \"country\": \"USA\" to the dictionary {'name': 'John', 'age': 25}."
      ]
    },
    {
      "cell_type": "code",
      "metadata": {
        "colab": {
          "base_uri": "https://localhost:8080/"
        },
        "id": "0c063f2b",
        "outputId": "3b7df932-fcf4-40db-9740-35590db5da5b"
      },
      "source": [
        "dict22 = {'name': 'John', 'age': 25}\n",
        "dict22[\"country\"] = \"USA\"\n",
        "print(dict22)"
      ],
      "execution_count": null,
      "outputs": [
        {
          "output_type": "stream",
          "name": "stdout",
          "text": [
            "{'name': 'John', 'age': 25, 'country': 'USA'}\n"
          ]
        }
      ]
    },
    {
      "cell_type": "markdown",
      "metadata": {
        "id": "1b9f9cb2"
      },
      "source": [
        "### Q23. Write a code to access the value associated with the key \"name\" in the dictionary {'name': 'Alice', 'age': 30}."
      ]
    },
    {
      "cell_type": "code",
      "metadata": {
        "colab": {
          "base_uri": "https://localhost:8080/"
        },
        "id": "3be66f62",
        "outputId": "4797c5b4-ec9d-4e67-d25f-31ccb786fedb"
      },
      "source": [
        "dict23 = {'name': 'Alice', 'age': 30}\n",
        "print(dict23[\"name\"])"
      ],
      "execution_count": null,
      "outputs": [
        {
          "output_type": "stream",
          "name": "stdout",
          "text": [
            "Alice\n"
          ]
        }
      ]
    },
    {
      "cell_type": "markdown",
      "metadata": {
        "id": "4675b09b"
      },
      "source": [
        "### Q24. Write a code to remove the key \"age\" from the dictionary {'name': 'Bob', 'age': 22, 'city': 'New York'}."
      ]
    },
    {
      "cell_type": "code",
      "metadata": {
        "colab": {
          "base_uri": "https://localhost:8080/"
        },
        "id": "20db5f59",
        "outputId": "51442c8f-aa0a-4a04-918c-6ed2421c83d2"
      },
      "source": [
        "dict24 = {'name': 'Bob', 'age': 22, 'city': 'New York'}\n",
        "del dict24[\"age\"]\n",
        "print(dict24)"
      ],
      "execution_count": null,
      "outputs": [
        {
          "output_type": "stream",
          "name": "stdout",
          "text": [
            "{'name': 'Bob', 'city': 'New York'}\n"
          ]
        }
      ]
    },
    {
      "cell_type": "markdown",
      "metadata": {
        "id": "621b3482"
      },
      "source": [
        "### Q25. Write a code to check if the key \"city\" exists in the dictionary {'name': 'Alice', 'city': 'Paris'}."
      ]
    },
    {
      "cell_type": "code",
      "metadata": {
        "colab": {
          "base_uri": "https://localhost:8080/"
        },
        "id": "eedb5127",
        "outputId": "1ca93bf2-2b66-48e8-a182-716161f58730"
      },
      "source": [
        "dict25 = {'name': 'Alice', 'city': 'Paris'}\n",
        "print(\"city\" in dict25)"
      ],
      "execution_count": null,
      "outputs": [
        {
          "output_type": "stream",
          "name": "stdout",
          "text": [
            "True\n"
          ]
        }
      ]
    },
    {
      "cell_type": "markdown",
      "metadata": {
        "id": "3e339e45"
      },
      "source": [
        "### Q26. Write a code to create a list, a tuple, and a dictionary, and print them all."
      ]
    },
    {
      "cell_type": "code",
      "metadata": {
        "colab": {
          "base_uri": "https://localhost:8080/"
        },
        "id": "81f2f1e7",
        "outputId": "3a5db832-e0aa-4b4a-f58f-d1a70c44351d"
      },
      "source": [
        "list26 = [1, 2, 3]\n",
        "tuple26 = (4, 5, 6)\n",
        "dict26 = {\"a\": 7, \"b\": 8}\n",
        "print(list26)\n",
        "print(tuple26)\n",
        "print(dict26)"
      ],
      "execution_count": null,
      "outputs": [
        {
          "output_type": "stream",
          "name": "stdout",
          "text": [
            "[1, 2, 3]\n",
            "(4, 5, 6)\n",
            "{'a': 7, 'b': 8}\n"
          ]
        }
      ]
    },
    {
      "cell_type": "markdown",
      "metadata": {
        "id": "f9e31b36"
      },
      "source": [
        "### Q27. Write a code to create a list of 5 random numbers between 1 and 100, sort it in ascending order, and print the result."
      ]
    },
    {
      "cell_type": "code",
      "metadata": {
        "colab": {
          "base_uri": "https://localhost:8080/"
        },
        "id": "9f4d088f",
        "outputId": "1901c166-6c60-4bda-e45f-a0d25d851a12"
      },
      "source": [
        "import random\n",
        "list27 = random.sample(range(1, 101), 5)\n",
        "list27.sort()\n",
        "print(list27)"
      ],
      "execution_count": null,
      "outputs": [
        {
          "output_type": "stream",
          "name": "stdout",
          "text": [
            "[19, 60, 75, 98, 100]\n"
          ]
        }
      ]
    },
    {
      "cell_type": "markdown",
      "metadata": {
        "id": "6e6b320d"
      },
      "source": [
        "### Q28. Write a code to create a list with strings and print the element at the third index."
      ]
    },
    {
      "cell_type": "code",
      "metadata": {
        "colab": {
          "base_uri": "https://localhost:8080/"
        },
        "id": "aedfa2a5",
        "outputId": "e7ea3adc-8e01-46d3-c316-cf8acdc8a0cf"
      },
      "source": [
        "list28 = [\"apple\", \"banana\", \"cherry\", \"date\"]\n",
        "print(list28[2])"
      ],
      "execution_count": null,
      "outputs": [
        {
          "output_type": "stream",
          "name": "stdout",
          "text": [
            "cherry\n"
          ]
        }
      ]
    },
    {
      "cell_type": "markdown",
      "metadata": {
        "id": "84310754"
      },
      "source": [
        "### Q29. Write a code to combine two dictionaries into one and print the result."
      ]
    },
    {
      "cell_type": "code",
      "metadata": {
        "colab": {
          "base_uri": "https://localhost:8080/"
        },
        "id": "f3f8c926",
        "outputId": "0044dc07-c44c-496d-a18f-432c71f84056"
      },
      "source": [
        "dict29_a = {\"a\": 1, \"b\": 2}\n",
        "dict29_b = {\"c\": 3, \"d\": 4}\n",
        "dict29_combined = {**dict29_a, **dict29_b}\n",
        "print(dict29_combined)"
      ],
      "execution_count": null,
      "outputs": [
        {
          "output_type": "stream",
          "name": "stdout",
          "text": [
            "{'a': 1, 'b': 2, 'c': 3, 'd': 4}\n"
          ]
        }
      ]
    },
    {
      "cell_type": "markdown",
      "metadata": {
        "id": "f24f84fe"
      },
      "source": [
        "### Q30. Write a code to convert a list of strings into a set."
      ]
    },
    {
      "cell_type": "code",
      "metadata": {
        "colab": {
          "base_uri": "https://localhost:8080/"
        },
        "id": "18ba6346",
        "outputId": "e5eff718-30b4-4005-c7d9-9795a511aac5"
      },
      "source": [
        "list30 = [\"apple\", \"banana\", \"cherry\", \"apple\"]\n",
        "set30 = set(list30)\n",
        "print(set30)"
      ],
      "execution_count": null,
      "outputs": [
        {
          "output_type": "stream",
          "name": "stdout",
          "text": [
            "{'apple', 'cherry', 'banana'}\n"
          ]
        }
      ]
    }
  ]
}